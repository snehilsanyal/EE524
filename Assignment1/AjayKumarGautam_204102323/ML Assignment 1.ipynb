{
 "cells": [
  {
   "cell_type": "code",
   "execution_count": 1,
   "metadata": {},
   "outputs": [],
   "source": [
    "#[1]print Hello World!"
   ]
  },
  {
   "cell_type": "code",
   "execution_count": 2,
   "metadata": {},
   "outputs": [
    {
     "name": "stdout",
     "output_type": "stream",
     "text": [
      "'Hello World!'\n"
     ]
    }
   ],
   "source": [
    "print(\"'Hello World!'\")"
   ]
  },
  {
   "cell_type": "code",
   "execution_count": 3,
   "metadata": {},
   "outputs": [],
   "source": [
    "# 2 algebraic operation"
   ]
  },
  {
   "cell_type": "code",
   "execution_count": 4,
   "metadata": {},
   "outputs": [
    {
     "name": "stdout",
     "output_type": "stream",
     "text": [
      "enter the 1st no:5\n",
      "enter the 2nd no:5\n"
     ]
    }
   ],
   "source": [
    "a = int(input('enter the 1st no:'))\n",
    "b = int(input('enter the 2nd no:'))"
   ]
  },
  {
   "cell_type": "code",
   "execution_count": 5,
   "metadata": {},
   "outputs": [],
   "source": [
    "c=a+b\n",
    "d=a-b\n",
    "e=a*b\n",
    "f=a/b\n",
    "g=a%b"
   ]
  },
  {
   "cell_type": "code",
   "execution_count": 6,
   "metadata": {},
   "outputs": [
    {
     "name": "stdout",
     "output_type": "stream",
     "text": [
      "10 0 25 1.0 0\n"
     ]
    }
   ],
   "source": [
    "print(c,d,e,f,g)"
   ]
  },
  {
   "cell_type": "code",
   "execution_count": 7,
   "metadata": {},
   "outputs": [],
   "source": [
    "# 3factorial of a number"
   ]
  },
  {
   "cell_type": "code",
   "execution_count": 8,
   "metadata": {},
   "outputs": [
    {
     "name": "stdout",
     "output_type": "stream",
     "text": [
      "enter the no:5\n",
      "the factorial is: 120\n"
     ]
    }
   ],
   "source": [
    "num = int(input('enter the no:'))\n",
    "f=1\n",
    "for i in range (1,num+1):\n",
    "    f=f*i\n",
    "print('the factorial is:',f)\n",
    " "
   ]
  },
  {
   "cell_type": "code",
   "execution_count": 9,
   "metadata": {},
   "outputs": [],
   "source": [
    "# 4 print prime no in an interval"
   ]
  },
  {
   "cell_type": "code",
   "execution_count": 10,
   "metadata": {},
   "outputs": [
    {
     "name": "stdout",
     "output_type": "stream",
     "text": [
      "enter the lower interval:5\n",
      "enter the upper interval5\n",
      "prime numbers inthe interval 5 and 5 are\n",
      "5\n"
     ]
    }
   ],
   "source": [
    "a=int(input('enter the lower interval:'))\n",
    "b=int(input('enter the upper interval'))\n",
    "print('prime numbers inthe interval',a,'and',b,'are')\n",
    "for n in range(a,b+1):  #prime number is always greater than one\n",
    "    if n>1:\n",
    "        for i in range (2,n):\n",
    "            if n%i==0:\n",
    "                break\n",
    "        else:\n",
    "            print(n)"
   ]
  },
  {
   "cell_type": "code",
   "execution_count": 11,
   "metadata": {},
   "outputs": [],
   "source": [
    "#5 Lcm of two number"
   ]
  },
  {
   "cell_type": "code",
   "execution_count": 12,
   "metadata": {},
   "outputs": [
    {
     "name": "stdout",
     "output_type": "stream",
     "text": [
      "enter the first number:56\n",
      "enter the second number:56\n",
      "LCM of two number is: 56\n"
     ]
    }
   ],
   "source": [
    "a= int(input('enter the first number:'))\n",
    "b= int(input('enter the second number:'))\n",
    "for n in range (1,a*b+1):\n",
    "    if n%a==0and n%b==0:\n",
    "        print('LCM of two number is:',n)\n",
    "        break"
   ]
  },
  {
   "cell_type": "code",
   "execution_count": 13,
   "metadata": {},
   "outputs": [
    {
     "name": "stdout",
     "output_type": "stream",
     "text": [
      "the sorted element in descending order is: [101, 97, 67, 58, 54, 53, 51, 48, 45, 34, 23, 13, 12, 4, 2]\n",
      "the indices of the soeted element are: [11, 10, 12, 15, 8, 3, 14, 13, 4, 7, 9, 6, 5, 2, 1]\n"
     ]
    }
   ],
   "source": [
    "my_list =[2,4,53,45,12,13,34,54,23,97,101,67,48,51,58]\n",
    "pos = [1,2,3,4,5,6,7,8,9,10,11,12,13,14,15]\n",
    "L=len(my_list)\n",
    "for i in range (0,L):\n",
    "    for j in range(0,L-i-1):\n",
    "        if my_list[j]< my_list[j+1]:\n",
    "            (my_list[j],my_list[j+1])=(my_list[j+1],my_list[j])\n",
    "            (pos[j],pos[j+1])=(pos[j+1],pos[j])\n",
    "            \n",
    "print('the sorted element in descending order is:',my_list)\n",
    "print('the indices of the soeted element are:',pos)"
   ]
  },
  {
   "cell_type": "code",
   "execution_count": 14,
   "metadata": {},
   "outputs": [],
   "source": [
    "#7 sorting in ascending order using numpy"
   ]
  },
  {
   "cell_type": "code",
   "execution_count": 15,
   "metadata": {},
   "outputs": [],
   "source": [
    "import numpy as np"
   ]
  },
  {
   "cell_type": "code",
   "execution_count": 16,
   "metadata": {},
   "outputs": [],
   "source": [
    "m_list=np.array([2,4,3,1,5,34,23,31,13,33,42,24,56,65,78])\n",
    "pos=np.arange(1,16)\n"
   ]
  },
  {
   "cell_type": "code",
   "execution_count": 17,
   "metadata": {},
   "outputs": [
    {
     "name": "stdout",
     "output_type": "stream",
     "text": [
      "the sorted element in ascending order is: [ 1  2  3  4  5 13 23 24 31 33 34 42 56 65 78]\n",
      "the indices of the sorted element are: [ 4  1  3  2  5  9  7 12  8 10  6 11 13 14 15]\n"
     ]
    }
   ],
   "source": [
    "L=len(m_list)\n",
    "for i in range (0,L):\n",
    "    for j in range (0,L-i-1):\n",
    "        if m_list[j]>m_list[j+1]:\n",
    "            (m_list[j],m_list[j+1])=(m_list[j+1],m_list[j])\n",
    "            (pos[j],pos[j+1])=(pos[j+1],pos[j])\n",
    "print('the sorted element in ascending order is:',m_list)\n",
    "print('the indices of the sorted element are:',pos)"
   ]
  },
  {
   "cell_type": "code",
   "execution_count": 18,
   "metadata": {},
   "outputs": [],
   "source": [
    "# 8 print the matrix"
   ]
  },
  {
   "cell_type": "code",
   "execution_count": 19,
   "metadata": {},
   "outputs": [],
   "source": [
    "import random"
   ]
  },
  {
   "cell_type": "code",
   "execution_count": 20,
   "metadata": {},
   "outputs": [
    {
     "name": "stdout",
     "output_type": "stream",
     "text": [
      "enter the row order6\n",
      "enter the column order6\n",
      "[[ 0 -2  1  1  1 -1]\n",
      " [-2 -2  0  0  1 -2]\n",
      " [ 0  0 -2  0 -2 -1]\n",
      " [-1 -2  0  1 -1  1]\n",
      " [-1 -1  0  1 -1  0]\n",
      " [-2  0  0 -1 -2  0]]\n"
     ]
    }
   ],
   "source": [
    "m = int(input('enter the row order'))\n",
    "n = int(input(\"enter the column order\"))\n",
    "arr1= np.random.randint(-2.5,2.5,(m,n))\n",
    "print(arr1)"
   ]
  },
  {
   "cell_type": "code",
   "execution_count": 21,
   "metadata": {},
   "outputs": [],
   "source": [
    "#9 multiplication of matrix"
   ]
  },
  {
   "cell_type": "code",
   "execution_count": 22,
   "metadata": {},
   "outputs": [],
   "source": [
    "import sys\n",
    "from numpy import*"
   ]
  },
  {
   "cell_type": "code",
   "execution_count": null,
   "metadata": {
    "scrolled": true
   },
   "outputs": [],
   "source": [
    "m=int(input(\"first matrix rows:\"))\n",
    "n=int(input('first matrix columns:'))\n",
    "m1 = []\n",
    "for i in range (0,m):\n",
    "    m1.append([])\n",
    "for i in range (0,m):\n",
    "    for j in range(0,n):\n",
    "        m1[i].append(j)\n",
    "        m1[i][j]=0\n",
    "        print('entry in row ',i+1,'column:',j+1)\n",
    "print(m1)\n",
    "n1=int(input('second matrix rows:'))\n",
    "p=int(input('second matrix columns:'))\n",
    "m2=[]\n",
    "for i in range (0,n1):\n",
    "    m2.append([])\n",
    "for i in range (0,n1):\n",
    "    for j in range (0,p):\n",
    "        m2[i].append(j)\n",
    "        m2[i][j]=0\n",
    "        print('entry in row:',i+1,'column:',j+1)\n",
    "        m2[i][j]=int(input())\n",
    "print(m2)\n",
    "Res = []\n",
    "for i in range (0,m):\n",
    "    Res.append([])\n",
    "for i in range (0,m):\n",
    "    for j in range(0,p):\n",
    "        Res[i].append(j)\n",
    "        Res[i][j]=0\n",
    "for n1 in range (len(m1)):\n",
    "    for p in range (len(m2[0])):\n",
    "        for q in range (len(m2)):\n",
    "            Res[n1][p]+=m1[n1][q]*m2[q][p]\n",
    "print(Res)"
   ]
  },
  {
   "cell_type": "code",
   "execution_count": null,
   "metadata": {},
   "outputs": [],
   "source": [
    "# 13 plot the function y = 3x + 2"
   ]
  },
  {
   "cell_type": "code",
   "execution_count": null,
   "metadata": {},
   "outputs": [],
   "source": [
    "import matplotlib.pyplot as plt\n",
    "import numpy as np"
   ]
  },
  {
   "cell_type": "code",
   "execution_count": null,
   "metadata": {},
   "outputs": [],
   "source": [
    "x = np.linspace(-10,10)\n",
    "y = 3*x +2\n",
    "plt.plot(x,y)\n",
    "plt.title('plot of function y = 3x + 2')\n",
    "plt.xlabel('x')\n",
    "plt.ylabel('y')\n",
    "plt.grid()\n",
    "plt.show()"
   ]
  },
  {
   "cell_type": "code",
   "execution_count": null,
   "metadata": {},
   "outputs": [],
   "source": [
    "# define class for a complex no"
   ]
  },
  {
   "cell_type": "code",
   "execution_count": null,
   "metadata": {},
   "outputs": [],
   "source": []
  }
 ],
 "metadata": {
  "kernelspec": {
   "display_name": "Python 3",
   "language": "python",
   "name": "python3"
  },
  "language_info": {
   "codemirror_mode": {
    "name": "ipython",
    "version": 3
   },
   "file_extension": ".py",
   "mimetype": "text/x-python",
   "name": "python",
   "nbconvert_exporter": "python",
   "pygments_lexer": "ipython3",
   "version": "3.8.3"
  }
 },
 "nbformat": 4,
 "nbformat_minor": 4
}
