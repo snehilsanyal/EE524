{
  "nbformat": 4,
  "nbformat_minor": 0,
  "metadata": {
    "colab": {
      "name": "Assignment1.ipynb",
      "provenance": [],
      "collapsed_sections": []
    },
    "kernelspec": {
      "name": "python3",
      "display_name": "Python 3"
    }
  },
  "cells": [
    {
      "cell_type": "code",
      "metadata": {
        "id": "BDXF4m8El775",
        "colab_type": "code",
        "colab": {
          "base_uri": "https://localhost:8080/",
          "height": 35
        },
        "outputId": "9767e923-7b2e-43ba-8680-c8252615a2c3"
      },
      "source": [
        "print(\"Hello World!\")"
      ],
      "execution_count": null,
      "outputs": [
        {
          "output_type": "stream",
          "text": [
            "Hello World!\n"
          ],
          "name": "stdout"
        }
      ]
    },
    {
      "cell_type": "code",
      "metadata": {
        "id": "HTpUWA_hmANL",
        "colab_type": "code",
        "colab": {
          "base_uri": "https://localhost:8080/",
          "height": 145
        },
        "outputId": "9cca1cf6-3977-49fe-b080-2efcca1df41f"
      },
      "source": [
        "a = int(input(\"Enter a: \"))\n",
        "b = int(input(\"Enter b: \"))\n",
        "\n",
        "c = a+b\n",
        "print(\"c=a+b: \"+str(c))\n",
        "\n",
        "d = a-b\n",
        "print(\"d=a-b: \"+str(d))\n",
        "\n",
        "e = a*b\n",
        "print(\"e=a*b: \"+str(e))\n",
        "\n",
        "f = a/b\n",
        "print(\"f=a/b: \"+str(f))\n",
        "\n",
        "g = a%b\n",
        "print(\"g=a%b: \"+str(g))"
      ],
      "execution_count": null,
      "outputs": [
        {
          "output_type": "stream",
          "text": [
            "Enter a: 5\n",
            "Enter b: 6\n",
            "c=a+b: 11\n",
            "d=a-b: -1\n",
            "e=a*b: 30\n",
            "f=a/b: 0.8333333333333334\n",
            "g=a%b: 5\n"
          ],
          "name": "stdout"
        }
      ]
    },
    {
      "cell_type": "code",
      "metadata": {
        "id": "FydUzxADmE69",
        "colab_type": "code",
        "colab": {
          "base_uri": "https://localhost:8080/",
          "height": 54
        },
        "outputId": "f1b876cf-26df-4b1e-e01a-203416a71e8b"
      },
      "source": [
        "n = int(input(\"Enter a number: \"))\n",
        "result = 1\n",
        "for i in range(1,n+1):\n",
        "    result = result*i\n",
        "    \n",
        "print(\"Factorial of \"+str(n)+\" is: \"+str(result))"
      ],
      "execution_count": null,
      "outputs": [
        {
          "output_type": "stream",
          "text": [
            "Enter a number: 5\n",
            "Factorial of 5 is: 120\n"
          ],
          "name": "stdout"
        }
      ]
    },
    {
      "cell_type": "code",
      "metadata": {
        "id": "n02vGUbrmLNZ",
        "colab_type": "code",
        "colab": {
          "base_uri": "https://localhost:8080/",
          "height": 181
        },
        "outputId": "628c6a24-da4e-4441-c196-a89e105301bf"
      },
      "source": [
        "def isprime(i):\n",
        "    flag = 0\n",
        "    for j in range(2,i):\n",
        "        if i%j == 0:\n",
        "            flag = 1\n",
        "    \n",
        "    return flag\n",
        "\n",
        "\n",
        "a = int(input(\"Enter a: \"))\n",
        "b = int(input(\"Enter b: \"))\n",
        "\n",
        "for i in range(a, b+1):\n",
        "    flag = isprime(i)\n",
        "    if flag == 0:\n",
        "        print(i)"
      ],
      "execution_count": null,
      "outputs": [
        {
          "output_type": "stream",
          "text": [
            "Enter a: 4\n",
            "Enter b: 25\n",
            "5\n",
            "7\n",
            "11\n",
            "13\n",
            "17\n",
            "19\n",
            "23\n"
          ],
          "name": "stdout"
        }
      ]
    },
    {
      "cell_type": "code",
      "metadata": {
        "id": "RiROxvmVmQJq",
        "colab_type": "code",
        "colab": {
          "base_uri": "https://localhost:8080/",
          "height": 72
        },
        "outputId": "a2b1cfcf-d507-4b12-e636-709348dee5bb"
      },
      "source": [
        "num1 = int(input(\"Enter first number: \"))\n",
        "num2 = int(input(\"Enter second number: \"))\n",
        "\n",
        "max_num = max(num1, num2)\n",
        "\n",
        "while(1):\n",
        "    i=2\n",
        "    if (max_num % num1 == 0) and (max_num % num2 == 0):\n",
        "        print(\"LCM of \"+str(num1)+\" & \"+str(num2)+\" is \"+str(max_num))\n",
        "        break\n",
        "    max_num = max_num * i\n",
        "    i+=1"
      ],
      "execution_count": null,
      "outputs": [
        {
          "output_type": "stream",
          "text": [
            "Enter first number: 5\n",
            "Enter second number: 35\n",
            "LCM of 5 & 35 is 35\n"
          ],
          "name": "stdout"
        }
      ]
    },
    {
      "cell_type": "code",
      "metadata": {
        "id": "oGkhxo2AmXnb",
        "colab_type": "code",
        "colab": {
          "base_uri": "https://localhost:8080/",
          "height": 126
        },
        "outputId": "419a1e02-a498-443e-91f5-ffd8473b9512"
      },
      "source": [
        "arr = [5,10,6,4,7,3,1,9,11,54,32,8,20,2,87]\n",
        "brr = arr.copy()\n",
        "li = []\n",
        "\n",
        "for i in range(0,15):\n",
        "    for j in range(0,15):\n",
        "        if arr[i] > arr[j]:\n",
        "            temp = arr[i]\n",
        "            arr[i] = arr[j]\n",
        "            arr[j] = temp\n",
        "\n",
        "print(\"Original list:\")\n",
        "print(brr)\n",
        "\n",
        "print(\"Sorted list:\")\n",
        "print(arr)\n",
        "\n",
        "for i in range(0,15):\n",
        "    for j in range(0,15):\n",
        "        if arr[i]==brr[j]:\n",
        "            li.append([i,j])\n",
        "\n",
        "print(\"Sorted indices:\")\n",
        "print(li)"
      ],
      "execution_count": null,
      "outputs": [
        {
          "output_type": "stream",
          "text": [
            "Original list:\n",
            "[5, 10, 6, 4, 7, 3, 1, 9, 11, 54, 32, 8, 20, 2, 87]\n",
            "Sorted list:\n",
            "[87, 54, 32, 20, 11, 10, 9, 8, 7, 6, 5, 4, 3, 2, 1]\n",
            "Sorted indices:\n",
            "[[0, 14], [1, 9], [2, 10], [3, 12], [4, 8], [5, 1], [6, 7], [7, 11], [8, 4], [9, 2], [10, 0], [11, 3], [12, 5], [13, 13], [14, 6]]\n"
          ],
          "name": "stdout"
        }
      ]
    },
    {
      "cell_type": "code",
      "metadata": {
        "id": "RbtxeAkwmd2g",
        "colab_type": "code",
        "colab": {
          "base_uri": "https://localhost:8080/",
          "height": 126
        },
        "outputId": "30ec59af-4cd6-4706-f23b-d3bfd32a4539"
      },
      "source": [
        "import numpy as np\n",
        "\n",
        "arr = np.array([5,10,6,4,7,3,1,9,11,54,32,8,20,2,87])\n",
        "\n",
        "print(\"Original array:\")\n",
        "print(arr)\n",
        "print(\"Sorted array:\")\n",
        "print(np.sort(arr))\n",
        "\n",
        "print(\"Sorted indices:\")\n",
        "print(np.argsort(arr))"
      ],
      "execution_count": null,
      "outputs": [
        {
          "output_type": "stream",
          "text": [
            "Original array:\n",
            "[ 5 10  6  4  7  3  1  9 11 54 32  8 20  2 87]\n",
            "Sorted array:\n",
            "[ 1  2  3  4  5  6  7  8  9 10 11 20 32 54 87]\n",
            "Sorted indices:\n",
            "[ 6 13  5  3  0  2  4 11  7  1  8 12 10  9 14]\n"
          ],
          "name": "stdout"
        }
      ]
    },
    {
      "cell_type": "code",
      "metadata": {
        "id": "SBABntpSmhhb",
        "colab_type": "code",
        "colab": {
          "base_uri": "https://localhost:8080/",
          "height": 126
        },
        "outputId": "83489d4d-6fa4-407e-e875-b2db746851e7"
      },
      "source": [
        "from numpy import random\n",
        "\n",
        "m = int(input(\"Enter m: \"))\n",
        "n = int(input(\"Enter n: \"))\n",
        "\n",
        "arr = random.randint(-2,5,size=(m,n))\n",
        "\n",
        "print(arr)"
      ],
      "execution_count": null,
      "outputs": [
        {
          "output_type": "stream",
          "text": [
            "Enter m: 4\n",
            "Enter n: 3\n",
            "[[ 3  2  2]\n",
            " [ 0  4  2]\n",
            " [-2  0  2]\n",
            " [-2  2  4]]\n"
          ],
          "name": "stdout"
        }
      ]
    },
    {
      "cell_type": "code",
      "metadata": {
        "id": "CO-grC48mlQq",
        "colab_type": "code",
        "colab": {
          "base_uri": "https://localhost:8080/",
          "height": 72
        },
        "outputId": "58ca5074-5d0b-487c-c4a1-f155aecfd6c1"
      },
      "source": [
        "import numpy as np\n",
        "\n",
        "X = [[1,2,3],\n",
        "    [4 ,5,6]]\n",
        "\n",
        "Y = [[1,2],\n",
        "     [3,4],\n",
        "     [5,6]]\n",
        "\n",
        "result = [[0,0],\n",
        "         [0,0]]\n",
        "\n",
        "res = np.dot(X,Y)\n",
        "\n",
        "for i in range(len(X)):\n",
        "   for j in range(len(Y[0])):\n",
        "       for k in range(len(Y)):\n",
        "           result[i][j] += X[i][k] * Y[k][j]\n",
        "\n",
        "print(result)\n",
        "print(res)"
      ],
      "execution_count": null,
      "outputs": [
        {
          "output_type": "stream",
          "text": [
            "[[22, 28], [49, 64]]\n",
            "[[22 28]\n",
            " [49 64]]\n"
          ],
          "name": "stdout"
        }
      ]
    },
    {
      "cell_type": "code",
      "metadata": {
        "id": "9PxakAJemsVT",
        "colab_type": "code",
        "colab": {
          "base_uri": "https://localhost:8080/",
          "height": 926
        },
        "outputId": "ad89de23-2793-4ab9-a585-ceb2ee30d180"
      },
      "source": [
        "from numpy import random\n",
        "from numpy import savetxt\n",
        "\n",
        "X = random.randint(100, size=(10,100))\n",
        "\n",
        "print(X)\n",
        "\n",
        "savetxt('data.csv', X, delimiter=',')"
      ],
      "execution_count": null,
      "outputs": [
        {
          "output_type": "stream",
          "text": [
            "[[21 19 70 89  3 41 27 44 63 58 65 58  9 48 16  9 16 13 76 11 99 12 81 17\n",
            "  27 31 38  8 22 59 71 72 56 26 42 36 12 84 19 57 91 31 75 22 49 43 49 50\n",
            "  32 20 97 16 68 79 44 92 58 55 24 59 25 48 40 81 51 65 16  5 82 34 16 58\n",
            "  22 88 14 87 74 98 73 29  6 90 41 10 27 11 84 31 66 60 51 20 22 76 49 73\n",
            "  32 89 78 47]\n",
            " [79 84 87 27 70 38 33  5 89 84 46 59  5 76 79 35 12 91 77 53 25 69 70 58\n",
            "  59 27 42 51 64 14 40 21 23 27 50 52 28  4 88 44  1 42 16 73 99 75 28 81\n",
            "  24 58 91 43 92 16 79 30 93 65 40 15 42 84 36  0  1 30 94 74 61 29  2 78\n",
            "  60 32 86 96  3 65 43 32 81  1 45 39 48 40 14  8 90 84 55 82 35  1 93 10\n",
            "  70  7 53 97]\n",
            " [ 5 58 63 39  9 18 77 64 40 27 48 35 46 31 48 43 26 95 17 30 98  3 40 43\n",
            "  74 99 25 80 14  3 63 57 44 22 40 62 98 91 55 64 74 68 36 39 72 74  2 65\n",
            "  14 75 59 95 80 15 92 23 54 41 87 53 52 89 57 59 41 85 13 55 34 45 24 66\n",
            "  52 11 51 39 20 54 68 66 71 87 73 52 52 93 76 99 28 51 28 25 33 10 83 95\n",
            "  98 82 97 55]\n",
            " [71 94 25 57 85 92 31 69 49 76 50 57  6 58 50 54 41 86  1 29 62 63 17 34\n",
            "  96 74 24 16 86 84 13 35 83 43 97 28 30 10 77 92 40 16 58 33 52 89 23 78\n",
            "  70 32 33 33 50 95 29 81 80 70 40 64 22 54 41 66  4 10 38 31 73 44 97 35\n",
            "  96 45 28 93  0  6  1 40 51 88 30 11 24 64 10 67 51 16 95 36 67  3 66 47\n",
            "  65 53 35 23]\n",
            " [20 89 96 86 70 92 16 14 80 38 46 57 95 64 41 74 17 96 14 31 55 10 15 82\n",
            "  37 76 11 60 42 19 89 81 49 64 53 25 49  4 98 24 14 10 41 56 40 16 97 60\n",
            "  65 48 33 30 64 12  9 93  9 34 74 37 60 88 23 42 55 24 15 73 61 26 11 62\n",
            "   9 82 99 58 92 82 16 46 78 88  5 36 43 17 22 30 98 64 72 93 70 45 81 75\n",
            "  98 10 19 81]\n",
            " [65 44 27 62 50 39 11 20 48 17 28 15 55 48 90 19 84 44 17 48 15 14 36 96\n",
            "  69  0 55 42 76 87 35 39 87 79 44 42 56 62 33 41 53 93 74 10 86 74 40 76\n",
            "  59 55 28 70  1 41 20 64 51 33 21 34  9 32 78 87 49 16 11 82 80  8 11 59\n",
            "  27 38 85 26 27  3 35 59  7  3 37 93 64 24 15 74 28 12 62 40 74 57 71 24\n",
            "  15 30 81 96]\n",
            " [82 71 99 48  8 77 83 56  7 37  6 34 32 76 42 49 33 79 60 42  5 65 99 37\n",
            "  66 22 10 57 55 50 28 98 27 56 56 38 92 48 30  1 12 75 84 92 39 51 74 56\n",
            "  85 32 99 70 33 48 18 32 22 45 29 51 78  9 49 97 91 88 62 64  9 48 98 18\n",
            "  97 26  1 78 67 48  0 75 83 71 22  6 35 32 56 89 44 52 31 56  1 19  4 17\n",
            "  21 24 20 37]\n",
            " [52 53 25 58 78 52 10 39 60 43 27 26 59  6 86 51 58 82 12 32 99 33 59 80\n",
            "  52 14 69 70 96 85 43 66 57 25 54 47 22  2 94 82 38 37 70 15 90 68 36 72\n",
            "  85 95 90 84 14  3 16 88  6 50 42 75 91 43 12 81 35 38 40 89 24 91 81 76\n",
            "  14 20 34 22 10 81 70 12 14 79 82 37 36 18 34 55 74  6 88 73 88 70 66 63\n",
            "  38 22 91 18]\n",
            " [30 67 29 18 60 32 47 66 35 41 44 37 22 98  6 66 53 87 31 66 74 39 98 36\n",
            "  41 22 40 54 35 29 65 75 55 13 75 14 33 93 88 74 61 44 11 88 21 34 88 64\n",
            "  46 17  3 50 91 85 56 84 64  6 24 19  6  7 51 13 24 25  1 73 17 20 23 93\n",
            "  74 88 61 66 42 25 52 53 29 30  5  8 41 86 19 20 94 62 51  2 40 96 52 90\n",
            "  29  4 63 18]\n",
            " [82 38 18 46 93 51 68 37 59 22 21  0 18  6 59 40 50 73 27 30 28 46 94 45\n",
            "  62 64 22 79 15 61 23 36 41 60 14 28 45  7 29 46 80 71 92 65 91 35 74 63\n",
            "  19 63 12 93  3 95 88 87 30  5 70  3 55 58 57 40 11 14 73 52 79 22 21 47\n",
            "  40 22 31 53 42 42 81 83 29 88 17 14 51 76 13 82 51 40 81 88 10 21  9 91\n",
            "  37 47 25 16]]\n"
          ],
          "name": "stdout"
        }
      ]
    },
    {
      "cell_type": "code",
      "metadata": {
        "id": "HIeAz32cmzJK",
        "colab_type": "code",
        "colab": {
          "base_uri": "https://localhost:8080/",
          "height": 381
        },
        "outputId": "609ed671-97db-4883-ef14-cb032577ac03"
      },
      "source": [
        "from numpy import loadtxt\n",
        "import numpy as np\n",
        "import statistics\n",
        "\n",
        "X = loadtxt('data.csv', delimiter=',')\n",
        "\n",
        "mu = np.mean(X, axis=1)\n",
        "\n",
        "#print(mu)\n",
        "\n",
        "c = []\n",
        "\n",
        "for i in range(10):\n",
        "    t = X[i] - mu[i]\n",
        "    c.append(t)\n",
        "        \n",
        "c = np.array(c)\n",
        "\n",
        "C = np.dot(c,c.T)\n",
        "\n",
        "c = c/100\n",
        "\n",
        "print(C)"
      ],
      "execution_count": null,
      "outputs": [
        {
          "output_type": "stream",
          "text": [
            "[[ 72980.96 -15456.56   2469.12  -5338.76  -1993.6  -11180.48  -7092.88\n",
            "   -3252.04   8775.44  -6434.88]\n",
            " [-15456.56  86220.91  -1315.07   8628.61  17294.1   -2423.97  -6386.57\n",
            "   -1415.56   4291.41  -1071.57]\n",
            " [  2469.12  -1315.07  71823.39  -7980.97  -4052.7   -8403.31  -7755.11\n",
            "   -2186.88  -1528.57   4670.89]\n",
            " [ -5338.76   8628.61  -7980.97  76431.31   2838.1    3484.13   1156.53\n",
            "   14074.24   7705.11   9359.53]\n",
            " [ -1993.6   17294.1   -4052.7    2838.1   86097.    -3339.7   -5316.7\n",
            "   11065.4    9076.1    -905.7 ]\n",
            " [-11180.48  -2423.97  -8403.31   3484.13  -3339.7   69816.99 -10389.81\n",
            "   18476.52  -4684.47   7692.19]\n",
            " [ -7092.88  -6386.57  -7755.11   1156.53  -5316.7  -10389.81  80859.39\n",
            "   -7622.88  -5901.07   5051.39]\n",
            " [ -3252.04  -1415.56  -2186.88  14074.24  11065.4   18476.52  -7622.88\n",
            "   78796.96  -9880.56   6230.12]\n",
            " [  8775.44   4291.41  -1528.57   7705.11   9076.1   -4684.47  -5901.07\n",
            "   -9880.56  76086.91   5104.93]\n",
            " [ -6434.88  -1071.57   4670.89   9359.53   -905.7    7692.19   5051.39\n",
            "    6230.12   5104.93  72571.39]]\n"
          ],
          "name": "stdout"
        }
      ]
    },
    {
      "cell_type": "code",
      "metadata": {
        "id": "GIfdvvQ8m5JY",
        "colab_type": "code",
        "colab": {
          "base_uri": "https://localhost:8080/",
          "height": 163
        },
        "outputId": "44d41426-fa57-4e34-e592-7751a7cc4d21"
      },
      "source": [
        "import math\n",
        "class Complex(object):\n",
        "    def __init__(self, real, imag=0.0):\n",
        "        self.real = real\n",
        "        self.imag = imag\n",
        "\n",
        "    def __add__(self, other):\n",
        "        return Complex(self.real + other.real, self.imag + other.imag)\n",
        "\n",
        "    def __sub__(self, other):\n",
        "        return Complex(self.real - other.real, self.imag - other.imag)\n",
        "\n",
        "    def __mul__(self, other):\n",
        "        return Complex(self.real*other.real - self.imag*other.imag, self.imag*other.real + self.real*other.imag)\n",
        "\n",
        "    def __div__(self, other):\n",
        "        sr, si, or1, oi = self.real, self.imag, other.real, other.imag \n",
        "        r = float(or1**2 + oi**2)\n",
        "        return Complex((sr*or1+si*oi)/r, (si*or1-sr*oi)/r)\n",
        "\n",
        "    def __abs__(self):\n",
        "        return math.sqrt(self.real**2 + self.imag**2)\n",
        "        \n",
        "    def __angle__(self):\n",
        "        if(self.real > 0):\n",
        "            return math.atan(self.imag/self.real)\n",
        "        elif(self.real < 0 and self.imag >= 0):\n",
        "            return math.pi + math.atan(self.imag/self.real)\n",
        "        elif(self.real < 0 and self.imag < 0):\n",
        "            return math.atan(self.imag/self.real) - math.pi\n",
        "        elif(self.real == 0 and self.imag > 0):\n",
        "            return math.pi/2\n",
        "        elif(self.real == 0 and self.imag < 0):\n",
        "            return  -math.pi/2\n",
        "        elif(self.real == 0 and self.imag == 0):\n",
        "            return  \"indeterminate\"\n",
        "            \n",
        "    def __str__(self):\n",
        "        return '(%g, %g)' % (self.real, self.imag)\n",
        "\n",
        "c1=Complex(3,4)\n",
        "c2=Complex(5,6)\n",
        "print(\"Sum: \"+str(c1.__add__(c2)))\n",
        "print(\"Difference: \"+str(c1.__sub__(c2)))\n",
        "print(\"Product: \"+str(c1.__mul__(c2)))\n",
        "print(\"Quotent: \"+str(c1.__div__(c2)))\n",
        "print(\"Absolute value of c1: \"+str(c1.__abs__()))\n",
        "print(\"Absolute value of c2: \"+str(c2.__abs__()))\n",
        "print(\"Angle of c1: \"+str(c1.__angle__()))\n",
        "print(\"Angle of c2: \"+str(c2.__angle__()))"
      ],
      "execution_count": null,
      "outputs": [
        {
          "output_type": "stream",
          "text": [
            "Sum: (8, 10)\n",
            "Difference: (-2, -2)\n",
            "Product: (-9, 38)\n",
            "Quotent: (0.639344, 0.0327869)\n",
            "Absolute value of c1: 5.0\n",
            "Absolute value of c2: 7.810249675906654\n",
            "Angle of c1: 0.9272952180016122\n",
            "Angle of c2: 0.8760580505981934\n"
          ],
          "name": "stdout"
        }
      ]
    },
    {
      "cell_type": "code",
      "metadata": {
        "id": "hhQepSPWnEbd",
        "colab_type": "code",
        "colab": {
          "base_uri": "https://localhost:8080/",
          "height": 265
        },
        "outputId": "81a2b575-9c82-4d34-ddbd-e593c2561381"
      },
      "source": [
        "import matplotlib.pyplot as plt\n",
        "import numpy as np\n",
        "\n",
        "x = np.array(range(-10,10))\n",
        "y = 3*x+2\n",
        "\n",
        "plt.plot(x,y)\n",
        "\n",
        "\n",
        "plt.show()"
      ],
      "execution_count": null,
      "outputs": [
        {
          "output_type": "display_data",
          "data": {
            "image/png": "[encoded data removed]",
            "text/plain": [
              "<Figure size 432x288 with 1 Axes>"
            ]
          },
          "metadata": {
            "tags": [],
            "needs_background": "light"
          }
        }
      ]
    },
    {
      "cell_type": "code",
      "metadata": {
        "id": "m6CbH8p6VK2H",
        "colab_type": "code",
        "colab": {
          "base_uri": "https://localhost:8080/",
          "height": 265
        },
        "outputId": "be61011e-66aa-4bfe-d9f6-06e3a7666f18"
      },
      "source": [
        "import math\n",
        "\n",
        "def checkpoint( h, k, x, y, a, b): \n",
        "  \n",
        "    # checking the equation of \n",
        "    # ellipse with the given point \n",
        "    p = ((math.pow((x - h), 2) / math.pow(a, 2)) + \n",
        "         (math.pow((y - k), 2) / math.pow(b, 2))) -1\n",
        "  \n",
        "    return p\n",
        "\n",
        "import matplotlib.pyplot as plt\n",
        "import matplotlib.patches as patches\n",
        "import numpy as np\n",
        "import random\n",
        "\n",
        "fig,ax = plt.subplots(1)\n",
        "ax.set_aspect('equal')\n",
        "\n",
        "# The ellipse\n",
        "g_ell_center = (5.0, -5.0)\n",
        "g_ell_width = 10\n",
        "g_ell_height = 5\n",
        "angle = 0.\n",
        "\n",
        "g_ellipse = patches.Ellipse(g_ell_center, g_ell_width, g_ell_height, angle=angle, fill=False, edgecolor='black', linewidth=2)\n",
        "ax.add_patch(g_ellipse)\n",
        "\n",
        "x = []\n",
        "y = []\n",
        "\n",
        "for i in range(100):\n",
        "  x.append(random.uniform(-10,10))\n",
        "  y.append(random.uniform(-10,10))\n",
        "\n",
        "X = []\n",
        "Y = []\n",
        "\n",
        "for i in range(100):\n",
        "  if(checkpoint(5, -5, x[i], y[i], 10, 5) <= 0):\n",
        "    X.append(x[i])\n",
        "    Y.append(y[i])\n",
        "\n",
        "\n",
        "ax.scatter(X,Y,color='r')\n",
        "\n",
        "plt.show()"
      ],
      "execution_count": null,
      "outputs": [
        {
          "output_type": "display_data",
          "data": {
            "image/png": "[encoded data removed]",
            "text/plain": [
              "<Figure size 432x288 with 1 Axes>"
            ]
          },
          "metadata": {
            "tags": [],
            "needs_background": "light"
          }
        }
      ]
    }
  ]
}