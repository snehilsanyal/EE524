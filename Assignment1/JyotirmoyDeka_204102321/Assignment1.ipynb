{
 "cells": [
  {
   "cell_type": "markdown",
   "metadata": {},
   "source": [
    "# EE524 MACHINE LEARNING LAB (assignment 1) : JYOTIRMOY DEKA"
   ]
  },
  {
   "cell_type": "markdown",
   "metadata": {},
   "source": [
    "1. Print 'Hello World!'"
   ]
  },
  {
   "cell_type": "code",
   "execution_count": 1,
   "metadata": {},
   "outputs": [
    {
     "name": "stdout",
     "output_type": "stream",
     "text": [
      "'Hello World!'\n"
     ]
    }
   ],
   "source": [
    "print(\"'Hello World!'\")"
   ]
  },
  {
   "cell_type": "markdown",
   "metadata": {},
   "source": [
    "\n",
    "\n",
    "\n",
    "2.User input two numbers a and b. Perform the following algebraic operations c = a + b, d = a - b, e = a * b, f = a/b and g = a%b and print their results."
   ]
  },
  {
   "cell_type": "code",
   "execution_count": 2,
   "metadata": {},
   "outputs": [
    {
     "name": "stdout",
     "output_type": "stream",
     "text": [
      "enter username:3.73\n",
      "enter username:4.5\n",
      "8.23\n",
      "-0.77\n",
      "16.785\n",
      "0.8288888888888889\n",
      "3.73\n"
     ]
    }
   ],
   "source": [
    "a = float(input('enter username:'))\n",
    "b = float(input('enter username:'))\n",
    "c = a + b\n",
    "d = a - b \n",
    "e = a * b\n",
    "f = a / b \n",
    "g = a % b \n",
    "print(c)\n",
    "print(d)\n",
    "print(e)\n",
    "print(f)\n",
    "print(g)"
   ]
  },
  {
   "cell_type": "markdown",
   "metadata": {},
   "source": [
    "\n",
    "\n",
    "\n",
    "\n",
    "3.Find the factorial of a number 'num' and print the result."
   ]
  },
  {
   "cell_type": "code",
   "execution_count": 3,
   "metadata": {},
   "outputs": [
    {
     "name": "stdout",
     "output_type": "stream",
     "text": [
      "enter any number: 7\n",
      "the required factorial is 5040\n"
     ]
    }
   ],
   "source": [
    "def fact(num):\n",
    "    if num == 1:\n",
    "        return num\n",
    "    else :\n",
    "        return num * fact(num-1)\n",
    "    \n",
    "num = int(input(\"enter any number: \"))\n",
    "if num< 0 :\n",
    "    print(\"factorial is not defined for negative numbers\")\n",
    "elif num == 0:\n",
    "    print(\"factorial of 0 is 1 \")\n",
    "else :\n",
    "    print(\"the required factorial is\",fact(num))"
   ]
  },
  {
   "cell_type": "markdown",
   "metadata": {},
   "source": [
    "\n",
    "\n",
    "\n",
    "\n",
    "4.Take two user inputs a and b. Write a program to print all the prime numbers in the interval [a,b]."
   ]
  },
  {
   "cell_type": "code",
   "execution_count": 4,
   "metadata": {},
   "outputs": [
    {
     "name": "stdout",
     "output_type": "stream",
     "text": [
      "enter the value of 1st number: 31\n",
      "enter the value of 2nd number: 100\n",
      "31\n",
      "37\n",
      "41\n",
      "43\n",
      "47\n",
      "53\n",
      "59\n",
      "61\n",
      "67\n",
      "71\n",
      "73\n",
      "79\n",
      "83\n",
      "89\n",
      "97\n"
     ]
    }
   ],
   "source": [
    "a = int(input(\"enter the value of 1st number: \"))\n",
    "b = int(input(\"enter the value of 2nd number: \"))\n",
    "for num in range (a,b+1):\n",
    "    if num > 1:\n",
    "        for i in range(2,num):\n",
    "            if (num % i )== 0:\n",
    "                break\n",
    "        else :\n",
    "            print(num)"
   ]
  },
  {
   "cell_type": "markdown",
   "metadata": {},
   "source": [
    "\n",
    "\n",
    "5.Take two user inputs a and b and and their Lowest Common Multple(LCM)."
   ]
  },
  {
   "cell_type": "code",
   "execution_count": 9,
   "metadata": {},
   "outputs": [
    {
     "name": "stdout",
     "output_type": "stream",
     "text": [
      "enter 1st number: 4\n",
      "enter 2nd number: 5\n",
      "LCM of 4 and 5 is 20\n"
     ]
    }
   ],
   "source": [
    "a= int(input(\"enter 1st number: \"))\n",
    "b= int(input(\"enter 2nd number: \"))\n",
    "\n",
    "max_number=max(a,b)\n",
    "\n",
    "while(True):\n",
    "    if (max_number%a == 0 and max_number%b==0 ):\n",
    "        break\n",
    "    max_number=max_number+1\n",
    "    \n",
    "print(\"LCM of\" ,a , \"and\" ,b ,\"is\" , max_number)"
   ]
  },
  {
   "cell_type": "markdown",
   "metadata": {},
   "source": [
    "\n",
    "\n",
    "6.Create a list of length n = 15. Sort the array in descending order and print the sorted List as well as the sorted indices. Use the bubble sort algorithm."
   ]
  },
  {
   "cell_type": "code",
   "execution_count": 11,
   "metadata": {},
   "outputs": [
    {
     "name": "stdout",
     "output_type": "stream",
     "text": [
      "the required list A is  [70, 0, 63, 44, 66, 80, 48, 82, 27, 88, 60, 77, 76, 59, 22]\n",
      "the decreasing order sorted list of A is :  [88, 82, 80, 77, 76, 70, 66, 63, 60, 59, 48, 44, 27, 22, 0]\n"
     ]
    }
   ],
   "source": [
    "import random\n",
    "randomlist11 = random.sample(range(0,100), 15)\n",
    "print(\"the required list A is \", randomlist11 )\n",
    "\n",
    "def bubblesort(randomlist):\n",
    "    n = len(randomlist)\n",
    "    for i in range (n-1):\n",
    "        step=0\n",
    "        for j in range(n-1):\n",
    "            if randomlist[j]<randomlist[j+1]:\n",
    "                put=randomlist[j]\n",
    "                randomlist[j]=randomlist[j+1]\n",
    "                randomlist[j+1]=put\n",
    "                step = 1\n",
    "        if step == 0:\n",
    "            break\n",
    "    return randomlist\n",
    "\n",
    "sortedlist=bubblesort(randomlist11)\n",
    "\n",
    "\n",
    "\n",
    "print(\"the decreasing order sorted list of A is : \", sortedlist)"
   ]
  },
  {
   "cell_type": "markdown",
   "metadata": {},
   "source": [
    "\n",
    "\n",
    "7.Repeat the previous program for sorting in ascending order. Use numpy array instead of list."
   ]
  },
  {
   "cell_type": "code",
   "execution_count": 12,
   "metadata": {},
   "outputs": [
    {
     "name": "stdout",
     "output_type": "stream",
     "text": [
      "the random list A is  [55, 45, 35, 54, 21, 15, 25, 16, 3, 58, 8, 31, 41, 70, 95]\n",
      "the ascending order sorted array of the above is:  [ 3  8 15 16 21 25 31 35 41 45 54 55 58 70 95]\n"
     ]
    }
   ],
   "source": [
    "import random\n",
    "randomlist11 = random.sample(range(0,100), 15)\n",
    "print(\"the random list A is \", randomlist11 )\n",
    "\n",
    "import numpy as np \n",
    "\n",
    "mainlist = np.array(randomlist11)\n",
    "\n",
    "c= np.sort(mainlist)\n",
    "print(\"the ascending order sorted array of the above is: \", c)"
   ]
  },
  {
   "cell_type": "markdown",
   "metadata": {},
   "source": [
    "\n",
    "\n",
    "8.Print a matrix M\u000fRmxn having random values in the given range [-2, 5], m and n are to be given as userinput."
   ]
  },
  {
   "cell_type": "code",
   "execution_count": 13,
   "metadata": {
    "scrolled": true
   },
   "outputs": [
    {
     "name": "stdout",
     "output_type": "stream",
     "text": [
      "enter required number of rows: 5\n",
      "enter required number of columns: 8\n",
      "the value of required matrix is as shown: \n",
      "[[-2, 4, 1, 2, 2, 3, 2, 3], [-1, -2, -2, 3, -1, 0, -2, 3], [3, -2, 3, 2, 1, -1, 4, 3], [3, 3, 4, 3, 4, 2, 0, -2], [4, 0, 0, 0, 3, 0, -1, 4]]\n"
     ]
    }
   ],
   "source": [
    "import random \n",
    "\n",
    "import numpy as np\n",
    "\n",
    "m = int (input(\"enter required number of rows: \"))\n",
    "n = int (input(\"enter required number of columns: \"))\n",
    "\n",
    "matrix=[]\n",
    "\n",
    "for i in range(0,m):\n",
    "    numb=[]\n",
    "    for j in range(0,n):\n",
    "        x=random.randrange(-2,5)\n",
    "        numb.append(x)\n",
    "        \n",
    "    matrix.append(numb)\n",
    "print(\"the value of required matrix is as shown: \")    \n",
    "print(matrix)"
   ]
  },
  {
   "cell_type": "markdown",
   "metadata": {},
   "source": [
    "\n",
    "\n",
    "9.Write a program to multiply two random matricesM1\u000fRmxn, M2\u000fRnxp(Don't use built-in functions). Compare the result obtained with the built-in function."
   ]
  },
  {
   "cell_type": "code",
   "execution_count": 3,
   "metadata": {},
   "outputs": [
    {
     "name": "stdout",
     "output_type": "stream",
     "text": [
      "enter required number of rows of M1: 5\n",
      "enter required number of columns of M1 and rows of M2: 8\n",
      "enter required number of columns of M2: 5\n",
      "the value of M1 is as shown: \n",
      "[[32, 30, 26, 10, 41, 6, -9, -11], [-6, 49, -15, -3, -3, 5, -15, 11], [47, 36, 4, 8, 9, 16, 32, 47], [8, -13, 36, 27, 2, 43, 46, 23], [27, 7, 13, 30, 40, -12, 35, 44]]\n",
      "the value of M2 is as shown: \n",
      "[[5, 45, 8, 39, 4], [0, 35, 12, 16, 41], [42, 38, 41, 13, -5], [17, -5, 15, -2, 2], [7, 20, 25, -8, 18], [3, 6, 36, 31, 46], [41, 35, -6, 44, -5], [40, -8, 29, 1, 29]]\n",
      "[-440, 88, -319, -11, -319]\n",
      "[440, -88, 319, 11, 319]\n",
      "[1880, -376, 1363, 47, 1363]\n",
      "[920, -184, 667, 23, 667]\n",
      "[1760, -352, 1276, 44, 1276]\n",
      "[0, 0, 0, 0, 0]\n",
      "[0, 0, 0, 0, 0]\n",
      "[0, 0, 0, 0, 0]\n"
     ]
    }
   ],
   "source": [
    "import random \n",
    "import numpy as np\n",
    "m = int (input(\"enter required number of rows of M1: \"))\n",
    "n = int (input(\"enter required number of columns of M1 and rows of M2: \"))\n",
    "p = int (input(\"enter required number of columns of M2: \"))\n",
    "\n",
    "\n",
    "M1=[]\n",
    "M2=[]\n",
    "\n",
    "for i in range(0,m):\n",
    "    numb=[]\n",
    "    for j in range(0,n):\n",
    "        x=random.randrange(-15,50)\n",
    "        numb.append(x)\n",
    "        \n",
    "    M1.append(numb)\n",
    "\n",
    "print(\"the value of M1 is as shown: \")\n",
    "print(M1)\n",
    "\n",
    "\n",
    "for i in range(0,n):\n",
    "    numb=[]\n",
    "    for j in range(0,p):\n",
    "        x=random.randrange(-10,50)\n",
    "        numb.append(x)\n",
    "        \n",
    "    M2.append(numb)\n",
    "print(\"the value of M2 is as shown: \")\n",
    "print(M2)\n",
    "\n",
    "\n",
    "M3=[[0,0,0,0,0],[0,0,0,0,0],[0,0,0,0,0],[0,0,0,0,0],[0,0,0,0,0],[0,0,0,0,0],[0,0,0,0,0],[0,0,0,0,0]]\n",
    "for k in range(len(M1)):\n",
    "    for l in range(len(M2[0])):\n",
    "        for m in range(len(M2)):\n",
    "            M3[k][l] = M1[k][m]*M2[m][l]\n",
    "            \n",
    "for n in M3:\n",
    "    print(n)"
   ]
  },
  {
   "cell_type": "markdown",
   "metadata": {},
   "source": [
    "10.Write File operations :\n",
    "\n",
    "A)Generate a set of n= 100 random points X = xi, i=1,....n, xi\u000fR10."
   ]
  },
  {
   "cell_type": "code",
   "execution_count": 20,
   "metadata": {
    "scrolled": false
   },
   "outputs": [
    {
     "name": "stdout",
     "output_type": "stream",
     "text": [
      "    J   Y   O   T   I   R   M   O   Y   D\n",
      "0  67  25   3  11  81  82  18  33  76  27\n",
      "1  75  62  25  32  38   9  73  47  59  59\n",
      "2   0   6  41  47  60   9  63  47  63  37\n",
      "3  64  24  28  10  18  67  22  15  92  10\n",
      "4   5  38  35   7  24  91  83  92  81  28\n",
      "5  68  29  29  73  30  33  77  79  15  35\n",
      "6  79  39  22  85  28  88  78  85  77   0\n",
      "7  66  39  37   8  44  50  76  94  81  60\n",
      "8  19  31  40  55  53  16  99  24  72   3\n",
      "9  47  23  44  47  32  94  82   2  66  31\n"
     ]
    }
   ],
   "source": [
    "import numpy as np \n",
    "import pandas as pd\n",
    "\n",
    "df = pd.DataFrame(np.random.randint(0,100,size=(10,10)), columns=list('JYOTIRMOYD'))\n",
    "\n",
    "print(df)"
   ]
  },
  {
   "cell_type": "markdown",
   "metadata": {},
   "source": [
    "\n",
    "\n",
    "10.Write File operations :\n",
    "\n",
    "B)Write the above points to a CSV file (https://en.wikipedia.org/wiki/Comma-separatedvalues)"
   ]
  },
  {
   "cell_type": "code",
   "execution_count": 1,
   "metadata": {},
   "outputs": [],
   "source": [
    "import numpy as np \n",
    "import pandas as pd\n",
    "\n",
    "df = pd.DataFrame(np.random.randint(0,100,size=(10,10)), columns=list('JYOTIRMOYD'))\n",
    "\n",
    "df.to_csv('jyotirmoy.csv',index= False)"
   ]
  },
  {
   "cell_type": "markdown",
   "metadata": {},
   "source": [
    "11. Read File operations:\n",
    "a)Read the CSV file generated in the previous program to a matrix. Each column of matrix should represent a vector."
   ]
  },
  {
   "cell_type": "code",
   "execution_count": 2,
   "metadata": {},
   "outputs": [
    {
     "name": "stdout",
     "output_type": "stream",
     "text": [
      "    J   Y   O   T   I   R   M  O.1  Y.1   D\n",
      "0  22  81   0   1   2   5  68    9   64  70\n",
      "1  60  15  49  41  18  37  75   91   79  76\n",
      "2  89  92  46  28  37  52  82   17   50  66\n",
      "3  65  46  98  49  45  10  24   89    4  15\n",
      "4  42  52  72  41  58  43   1   21   19   1\n",
      "5  93  54  43  10  72  74  35   78   46  61\n",
      "6  37  76  35  77  75  48  17   30   48   3\n",
      "7  87  49  30  17  66  74  12   46    7  94\n",
      "8  75  38  35  65  51  46  28   36   68  54\n",
      "9  13  68  56  98  88  31  28   86   66   8\n"
     ]
    },
    {
     "data": {
      "text/plain": [
       "array([[22, 81,  0,  1,  2,  5, 68,  9, 64, 70],\n",
       "       [60, 15, 49, 41, 18, 37, 75, 91, 79, 76],\n",
       "       [89, 92, 46, 28, 37, 52, 82, 17, 50, 66],\n",
       "       [65, 46, 98, 49, 45, 10, 24, 89,  4, 15],\n",
       "       [42, 52, 72, 41, 58, 43,  1, 21, 19,  1],\n",
       "       [93, 54, 43, 10, 72, 74, 35, 78, 46, 61],\n",
       "       [37, 76, 35, 77, 75, 48, 17, 30, 48,  3],\n",
       "       [87, 49, 30, 17, 66, 74, 12, 46,  7, 94],\n",
       "       [75, 38, 35, 65, 51, 46, 28, 36, 68, 54],\n",
       "       [13, 68, 56, 98, 88, 31, 28, 86, 66,  8]], dtype=int64)"
      ]
     },
     "metadata": {},
     "output_type": "display_data"
    }
   ],
   "source": [
    "import pandas as pd\n",
    "import numpy as np\n",
    "df = pd.read_csv(\"jyotirmoy.csv\")\n",
    "print(df)\n",
    "np_array= df.to_numpy()\n",
    "display(np_array)"
   ]
  },
  {
   "cell_type": "markdown",
   "metadata": {},
   "source": [
    "11.b)Compute the following : C = 1/nPni=1(Xi 􀀀 \u0016)(Xi 􀀀 \u0016)T where \u0016 =1nPni=1 Xi where i = 1,2,3 ... n. Xi = [xi1,xi2, ... xi10] is a column vector"
   ]
  },
  {
   "cell_type": "code",
   "execution_count": 3,
   "metadata": {},
   "outputs": [
    {
     "name": "stdout",
     "output_type": "stream",
     "text": [
      "[-6.82121026e-14  4.26325641e-15  9.09494702e-14  2.27373675e-14\n",
      " -4.54747351e-14  6.82121026e-14 -6.82121026e-14  9.09494702e-14\n",
      "  5.68434189e-14 -1.81898940e-13]\n",
      "[-3.41060513e-14  6.82121026e-14 -5.11590770e-14  1.27897692e-14\n",
      "  7.10542736e-15  4.97379915e-15 -3.12638804e-14  7.10542736e-15\n",
      "  2.84217094e-14 -1.84741111e-14]\n",
      "[-1.13686838e-14  5.68434189e-15 -4.44089210e-17  5.11590770e-14\n",
      "  3.41060513e-14 -6.39488462e-15 -5.68434189e-15 -8.52651283e-15\n",
      " -5.68434189e-15  1.70530257e-14]\n",
      "[ 9.09494702e-14  4.26325641e-15  4.54747351e-14 -2.84217094e-14\n",
      "  4.26325641e-15  1.13686838e-13 -6.82121026e-14  9.09494702e-14\n",
      " -6.82121026e-14 -2.27373675e-13]\n",
      "[ 1.36424205e-13  4.54747351e-14  4.54747351e-14  1.70530257e-14\n",
      " -1.42108547e-14 -4.54747351e-14 -6.82121026e-14 -4.54747351e-14\n",
      "  3.55271368e-16 -9.09494702e-14]\n",
      "[0. 0. 0. 0. 0. 0. 0. 0. 0. 0.]\n",
      "[0. 0. 0. 0. 0. 0. 0. 0. 0. 0.]\n",
      "[-1.13686838e-13  9.09494702e-14 -6.82121026e-14  9.09494702e-14\n",
      " -1.13686838e-13  1.02318154e-13 -3.41060513e-14 -1.42108547e-14\n",
      " -3.97903932e-14  1.13686838e-13]\n",
      "[-1.70530257e-14 -5.68434189e-14 -4.26325641e-15  7.95807864e-14\n",
      "  3.41060513e-14 -7.10542736e-16 -7.10542736e-16  6.82121026e-14\n",
      " -5.68434189e-15 -5.11590770e-14]\n",
      "[ 5.68434189e-14  9.09494702e-14  5.68434189e-14 -4.54747351e-14\n",
      " -9.09494702e-14  4.54747351e-14 -1.59161573e-13  9.09494702e-14\n",
      "  2.27373675e-14 -9.09494702e-14]\n"
     ]
    }
   ],
   "source": [
    "for i in range(0,10):\n",
    "    di=np_array[:,i:i+1]\n",
    "    xi=np.average(di)\n",
    "    ai = di-xi\n",
    "    bi=ai.transpose()\n",
    "    mi = np.dot(ai,bi)\n",
    "    si=mi.sum(axis=1)\n",
    "    Ci = 0.1*si\n",
    "    print(Ci)"
   ]
  },
  {
   "cell_type": "markdown",
   "metadata": {},
   "source": [
    "12. Define a class for a complex number a + jb. De\f",
    "ne memeber functions to do basic operations conjugate, absolute value, addition, subtraction, multiplication, division and angle. De\f",
    "ne two complex numbers c1, c2 and print the results of the following operations c1 + c2, c1-c2, c1c2, c1/c2, , mod(c1),mod(c2), angle(c1), angle(c2)."
   ]
  },
  {
   "cell_type": "code",
   "execution_count": 22,
   "metadata": {},
   "outputs": [
    {
     "name": "stdout",
     "output_type": "stream",
     "text": [
      "1st complex number: (1+3j)\n",
      "2nd complex number :  (8+6j)\n",
      "sum is: (9+9j)\n",
      "subtraction is : (-7-3j)\n",
      "multiplication is: (-10+30j)\n",
      "division is : (0.26+0.18j)\n",
      "absolute value of 1st number is: 3.1622776601683795\n",
      "absolute value of 2nd number is: 10.0\n"
     ]
    }
   ],
   "source": [
    "import math\n",
    "from math import sqrt\n",
    "import numpy as np\n",
    "\n",
    "class Complex(object):\n",
    "    def _init_(self,real,img):\n",
    "        self.real=real\n",
    "        self.img=img\n",
    "        print(self.real + self.img)\n",
    "        \n",
    "        \n",
    "    \n",
    "    def __add__(self,other):\n",
    "       \n",
    "        return Complex(self.real + other.real,self.img+ other.img)\n",
    "    \n",
    "    def __sub__(self,other):\n",
    "        \n",
    "        return Complex(self.real - other.real,self.img- other.img)\n",
    "    \n",
    "    def __mul__(self,other):\n",
    "        \n",
    "        return Complex((self.real*other.real)-(self.img*other.img),(self.real* other.img)+ (self.img*other.real))\n",
    "    \n",
    "    def __truediv__(self,other):\n",
    "        \n",
    "        d=(other.real**2 + other.img**2)\n",
    "        return Complex((self.real*other.real)-(self.img*other.img)/d,(self.real* other.img)+ (self.img*other.real)/d)\n",
    "        \n",
    "    def __abs__(self):\n",
    "        r=((self.real**2 + (self.img**2))*(-1))\n",
    "        return Complex(sqrt(r.real))\n",
    "        \n",
    "        \n",
    "\n",
    "c1 = complex(1,3)\n",
    "print(\"1st complex number:\",c1)\n",
    "\n",
    "\n",
    "\n",
    "c2 = complex(8,6)\n",
    "print(\"2nd complex number : \",c2)\n",
    "\n",
    "c3=c1+c2 \n",
    "\n",
    "\n",
    "c4=c1-c2\n",
    "\n",
    "c5=c1*c2\n",
    "\n",
    "c6=c1/c2\n",
    "\n",
    "c7=abs(c1)\n",
    "c8=abs(c2)\n",
    "\n",
    "print(\"sum is:\",c3)\n",
    "print(\"subtraction is :\",c4)\n",
    "print(\"multiplication is:\",c5)\n",
    "print(\"division is :\",c6)\n",
    "print(\"absolute value of 1st number is:\",c7)\n",
    "print(\"absolute value of 2nd number is:\",c8)\n"
   ]
  },
  {
   "cell_type": "markdown",
   "metadata": {},
   "source": [
    "\n",
    "\n",
    "13.Plot the function y = 3x + 2 , with x for [-10, 10]. Use Matplotlib for the same"
   ]
  },
  {
   "cell_type": "code",
   "execution_count": 14,
   "metadata": {},
   "outputs": [
    {
     "data": {
      "image/png": "[encoded data removed]",
      "text/plain": [
       "<Figure size 432x288 with 1 Axes>"
      ]
     },
     "metadata": {
      "needs_background": "light"
     },
     "output_type": "display_data"
    }
   ],
   "source": [
    "from pylab import*\n",
    "import numpy as np\n",
    "from matplotlib import pyplot as plt\n",
    "x = np.linspace(-10,10)\n",
    "y = 3*x + 2\n",
    "\n",
    "plot(x,y, 'b',linewidth=3)\n",
    "plt.title('y=3x+2')\n",
    "plt.ylabel('Y-axis')\n",
    "plt.xlabel('X-axis')\n",
    "plt.grid()"
   ]
  }
 ],
 "metadata": {
  "kernelspec": {
   "display_name": "Python 3",
   "language": "python",
   "name": "python3"
  },
  "language_info": {
   "codemirror_mode": {
    "name": "ipython",
    "version": 3
   },
   "file_extension": ".py",
   "mimetype": "text/x-python",
   "name": "python",
   "nbconvert_exporter": "python",
   "pygments_lexer": "ipython3",
   "version": "3.8.3"
  }
 },
 "nbformat": 4,
 "nbformat_minor": 4
}
