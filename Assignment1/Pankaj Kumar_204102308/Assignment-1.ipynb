{
 "cells": [
  {
   "cell_type": "code",
   "execution_count": 1,
   "metadata": {},
   "outputs": [
    {
     "name": "stdout",
     "output_type": "stream",
     "text": [
      "Hello World\n"
     ]
    }
   ],
   "source": [
    "# Question Number:- 1\n",
    "print(\"Hello World\")"
   ]
  },
  {
   "cell_type": "code",
   "execution_count": 2,
   "metadata": {},
   "outputs": [
    {
     "name": "stdout",
     "output_type": "stream",
     "text": [
      "enter number a 4\n",
      "enter number b 5\n",
      "9 -1 20 0.8 4\n"
     ]
    }
   ],
   "source": [
    "# Question Number:-2\n",
    "a= int(input('enter number a '))\n",
    "b= int(input('enter number b '))\n",
    "c = a + b\n",
    "d = a - b\n",
    "e = a * b\n",
    "f = a / b\n",
    "g = a % b\n",
    "print(c,d,e,f,g)"
   ]
  },
  {
   "cell_type": "code",
   "execution_count": 1,
   "metadata": {},
   "outputs": [
    {
     "name": "stdout",
     "output_type": "stream",
     "text": [
      "enter number 4\n",
      "factorial of  4 is 24\n"
     ]
    }
   ],
   "source": [
    "# Question number :-3\n",
    "num = int(input(\"enter number \"))\n",
    "factorial = 1\n",
    "\n",
    "if num < 0:\n",
    "    print('factorial does not exist ')                    # for less than 0 number factorial does not exist\n",
    "\n",
    "elif num == 0:\n",
    "    print('factorial of 0 is 1')                          # factorial of 1 is 1\n",
    "\n",
    "else:\n",
    "    for i in  range(1,num+1):\n",
    "        factorial  = factorial * i\n",
    "    print('factorial of ', num, 'is', factorial)\n"
   ]
  },
  {
   "cell_type": "code",
   "execution_count": 5,
   "metadata": {
    "scrolled": true
   },
   "outputs": [
    {
     "name": "stdout",
     "output_type": "stream",
     "text": [
      "enter fist number a 2\n",
      "enter second number b 9\n",
      "prime numbers between  2 and 9 are\n",
      "2\n",
      "3\n",
      "5\n",
      "7\n"
     ]
    }
   ],
   "source": [
    "# Question Number:-4\n",
    "a = int(input( \"enter fist number a \"))\n",
    "b = int(input(\"enter second number b \"))\n",
    "print('prime numbers between ',a ,'and', b , 'are')\n",
    "for number in range(a,b+1):\n",
    "    if number > 1:                                          # prime numbers are greater than 1\n",
    "        for i in range(2,number):\n",
    "            if (number % i) == 0:\n",
    "                break\n",
    "        else:\n",
    "             print(number)\n"
   ]
  },
  {
   "cell_type": "code",
   "execution_count": 7,
   "metadata": {},
   "outputs": [
    {
     "name": "stdout",
     "output_type": "stream",
     "text": [
      "enter 1st number a 1\n",
      "enter 2nd number b 4\n",
      "LCM of 1 and 4 are\n",
      "4\n"
     ]
    }
   ],
   "source": [
    "# Question Number:-5\n",
    "a = int(input('enter 1st number a '))\n",
    "b = int(input('enter 2nd number b '))\n",
    "print('LCM of',a, 'and' ,b, 'are')\n",
    "if a > b :\n",
    "    max= a\n",
    "else:\n",
    "    max= b\n",
    "while(True):\n",
    "    if (max % a == 0 and max % b == 0):\n",
    "        print(max)\n",
    "        break;\n",
    "    max= max+ 1"
   ]
  },
  {
   "cell_type": "code",
   "execution_count": 8,
   "metadata": {},
   "outputs": [
    {
     "name": "stdout",
     "output_type": "stream",
     "text": [
      "Sorted list in descending order is : \n",
      "[56, 45, 23, 17, 16, 15, 13, 12, 9, 8, 7, 6, 4, 2]\n"
     ]
    }
   ],
   "source": [
    "# Question Number:-6\n",
    "list = [2, 4, 6, 8, 56, 12, 45, 23, 13, 15, 1, 7, 9, 17, 16]\n",
    "n = len(list)\n",
    "for i in range(n-1):\n",
    "    for j in range(0, n - i - 1):\n",
    "        if list[j] < list[j + 1]:\n",
    "            list[j], list[j + 1] = list[j + 1], list[j]\n",
    "\n",
    "print(\"Sorted list in descending order is : \")\n",
    "print(list[0:i+1])"
   ]
  },
  {
   "cell_type": "code",
   "execution_count": 12,
   "metadata": {},
   "outputs": [
    {
     "name": "stdout",
     "output_type": "stream",
     "text": [
      "Sorted list in ascending order is : \n",
      "[ 1  2  4  6  7  8  9 12 13 15 16 17 23 45 56]\n"
     ]
    }
   ],
   "source": [
    "# Question Number:-7\n",
    "import numpy as np\n",
    "a = np.array([2, 4, 6, 8, 56, 12, 45, 23, 13, 15, 1, 7, 9, 17, 16])\n",
    "n = len(a)\n",
    "for i in range(n):\n",
    "    for j in range(0, n - i - 1):\n",
    "        if a[j] > a[j + 1]:\n",
    "            a[j], a[j + 1] = a[j + 1], list[j]\n",
    "\n",
    "print(\"Sorted list in ascending order is : \")\n",
    "print(list[0:i+1])"
   ]
  },
  {
   "cell_type": "code",
   "execution_count": 8,
   "metadata": {},
   "outputs": [
    {
     "name": "stdout",
     "output_type": "stream",
     "text": [
      "number of rows= 3\n",
      "number of coloumn= 4\n",
      "[[ 1 -1  4  1]\n",
      " [ 3  3  0 -2]\n",
      " [-1  4  3  5]]\n"
     ]
    }
   ],
   "source": [
    "# Question Number:-8 \n",
    "import numpy as np\n",
    "import random\n",
    "m = int(input('number of rows= '))\n",
    "n = int(input('number of coloumn= '))\n",
    "arr = np.random.randint(-2, 6, size = (m, n))\n",
    "print(arr)"
   ]
  },
  {
   "cell_type": "code",
   "execution_count": 1,
   "metadata": {},
   "outputs": [
    {
     "name": "stdout",
     "output_type": "stream",
     "text": [
      "number of rows for mat1= 3\n",
      "number of coloumn for mat1 or row for mat2 = 4\n",
      "number of coloumn for mat2 = 3\n",
      "correct answer\n",
      "resultant matrix :  [[16, 35, -12], [33, 24, 5], [14, 17, 22]]\n"
     ]
    }
   ],
   "source": [
    "# Question number:-9\n",
    "import numpy as np\n",
    "import random\n",
    "\n",
    "m = int(input('number of rows for mat1= '))\n",
    "n = int(input('number of coloumn for mat1 or row for mat2 = '))\n",
    "p = int(input('number of coloumn for mat2 = '))\n",
    "\n",
    "mat1 = np.random.randint(-2, 6, size = (m,n))\n",
    "mat2 = np.random.randint(-2, 6, size = (n,p))\n",
    "mat3 = [[0 for i in range(p)] for j in range(m)]\n",
    "for i in range(m):\n",
    "    a = mat1[i]\n",
    "    for j in range(p):\n",
    "        b = mat2[:,j]\n",
    "        mat3[i][j] = sum([a[i]*b[i] for i in range(len(a))])\n",
    "res = np.dot(mat1, mat2)\n",
    "comparison = res==mat3\n",
    "if comparison.all():\n",
    "    print(\"correct answer\")\n",
    "else:\n",
    "    print(\"incorrect answer\")\n",
    "print(\"resultant matrix : \", mat3)"
   ]
  },
  {
   "cell_type": "code",
   "execution_count": null,
   "metadata": {},
   "outputs": [],
   "source": [
    "# Question number:-12\n",
    "import numpy as np\n",
    "import math\n",
    "import cmath\n",
    "class Complex(object):\n",
    "    def __init__(self, real, img = 0.0):\n",
    "        self.real = real\n",
    "        self.img = img\n",
    "    def __abs__(self):\n",
    "        return math.abs(self)\n",
    "    def __add__(self, other):\n",
    "        return complex(other.real + self.real, other.img + self.img)\n",
    "    def __sub__(self, other):\n",
    "        return complex(self.real-other.real, self.img-other.img)\n",
    "    def __mul__(self,other):\n",
    "        real =(self.real*other.real-self.img*other.img)\n",
    "        img = (self.real*other.img-other.real*self.img)\n",
    "        return complex(real,img)\n",
    "    def __conj__(self):\n",
    "        return complex(self.real, -self.img)\n",
    "    def __truedev__(self,other):\n",
    "        num = other.real**2 + other.img**2\n",
    "        num2 = self.__mul__(other.conjugate)/num\n",
    "        return complex(num2)\n",
    "\n",
    "a1 = int(input('enter real part for 1st complex number= '))\n",
    "b1 = int(input('enter img part for 1st complex number= '))\n",
    "a2 = int(input('enter real part for 2nd complex number= '))\n",
    "b2 = int(input('enter img part for 2nd complex number= '))\n",
    "\n",
    "c1 = complex(a1,b1)\n",
    "c2 = complex(a2,b2)\n",
    "\n",
    "print(\"absolute value of c1  : \",c1.__abs__())\n",
    "print(\"absolute value of c2: \",c2.__abs__())\n",
    "print(\"conjugate of c1 is: \",c1.conjugate())\n",
    "print(\"conjugate of c2 is : \" ,c2.conjugate())\n",
    "print(\"addition is : \",c1.__add__(c2))\n",
    "print(\"subtraction is : \",c1.__sub__(c2))\n",
    "print(\"multiplication is : \",c1.__mul__(c2))\n",
    "print(\"division is ; \",c1.__truediv__(c2))\n",
    "print(\"angle of c1 : \",cmath.polar(c1))\n",
    "print(\"angle of c2 : \",cmath.polar(c2))"
   ]
  },
  {
   "cell_type": "code",
   "execution_count": 5,
   "metadata": {},
   "outputs": [
    {
     "data": {
      "text/plain": [
       "Text(0.5, 1.0, 'plot of y = 3x+2 ')"
      ]
     },
     "execution_count": 5,
     "metadata": {},
     "output_type": "execute_result"
    },
    {
     "data": {
      "image/png": "[encoded data removed]",
      "text/plain": [
       "<Figure size 432x288 with 1 Axes>"
      ]
     },
     "metadata": {
      "needs_background": "light"
     },
     "output_type": "display_data"
    }
   ],
   "source": [
    "#Question Number -13\n",
    "import numpy as np\n",
    "import matplotlib.pyplot as plt\n",
    "x = np.arange(-10,11)\n",
    "y = 3*x + 2\n",
    "plt.plot(x,y)\n",
    "plt.xlabel('x----->')\n",
    "plt.ylabel('y------>')\n",
    "plt.title('plot of y = 3x+2 ')\n",
    "plt.show()"
   ]
  },
  {
   "cell_type": "code",
   "execution_count": 3,
   "metadata": {},
   "outputs": [
    {
     "data": {
      "image/png": "[encoded data removed]",
      "text/plain": [
       "<Figure size 432x288 with 1 Axes>"
      ]
     },
     "metadata": {
      "needs_background": "light"
     },
     "output_type": "display_data"
    }
   ],
   "source": [
    "#Question Number -14\n",
    "import numpy as np\n",
    "import math\n",
    "import matplotlib.pyplot as plt\n",
    "x = np.linspace(0,10,100)\n",
    "y = np.linspace(-7.5,-2.5,100)\n",
    "pos_y = +((1-(x-5)**2/5**2)*(5/2)**2)**0.5 -5\n",
    "neg_y = -((1-(x-5)**2/5**2)*(5/2)**2)**0.5 -5\n",
    "plt.xlim(-5,15)\n",
    "plt.ylim(-5,10)\n",
    "plt.scatter(x,pos_y)\n",
    "plt.scatter(x,neg_y)\n",
    "x_major = np.zeros(100) - 5\n",
    "y_minor = np.zeros(100) + 5\n",
    "plt.plot(x_major, y_minor)\n",
    "plt.show()\n"
   ]
  },
  {
   "cell_type": "code",
   "execution_count": null,
   "metadata": {},
   "outputs": [],
   "source": []
  }
 ],
 "metadata": {
  "kernelspec": {
   "display_name": "Python 3",
   "language": "python",
   "name": "python3"
  },
  "language_info": {
   "codemirror_mode": {
    "name": "ipython",
    "version": 3
   },
   "file_extension": ".py",
   "mimetype": "text/x-python",
   "name": "python",
   "nbconvert_exporter": "python",
   "pygments_lexer": "ipython3",
   "version": "3.8.3"
  }
 },
 "nbformat": 4,
 "nbformat_minor": 4
}
