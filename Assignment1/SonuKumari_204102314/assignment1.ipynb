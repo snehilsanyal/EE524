{
 "cells": [
  {
   "cell_type": "markdown",
   "metadata": {},
   "source": [
    "# Question 1"
   ]
  },
  {
   "cell_type": "code",
   "execution_count": 64,
   "metadata": {},
   "outputs": [
    {
     "name": "stdout",
     "output_type": "stream",
     "text": [
      "hello word !\n"
     ]
    }
   ],
   "source": [
    "print(\"hello word !\")"
   ]
  },
  {
   "cell_type": "markdown",
   "metadata": {},
   "source": [
    "# Question 2"
   ]
  },
  {
   "cell_type": "code",
   "execution_count": null,
   "metadata": {},
   "outputs": [],
   "source": [
    "a = int(input(\"Enter first number :\"))\n",
    "b = int(input(\"Enter second number :\"))\n",
    "c = a+b\n",
    "d = a-b\n",
    "e =a*b\n",
    "f =a/b\n",
    "g=a%b\n",
    "print(\"addition is :\",c,\"\\nsubtraction is \" ,d ,\"\\nmultipication is : \",e,\"\\ndivison is :\",f,\"\\n % is\",g,)"
   ]
  },
  {
   "cell_type": "markdown",
   "metadata": {},
   "source": [
    "# Question 3"
   ]
  },
  {
   "cell_type": "code",
   "execution_count": 8,
   "metadata": {},
   "outputs": [
    {
     "name": "stdout",
     "output_type": "stream",
     "text": [
      "6\n",
      "720\n"
     ]
    }
   ],
   "source": [
    "num =int(input())\n",
    "def fact(a):\n",
    "    prod = 1\n",
    "    while(a!=1):\n",
    "        prod = prod*a\n",
    "        a = a-1\n",
    "    return prod\n",
    "print(fact(num))"
   ]
  },
  {
   "cell_type": "markdown",
   "metadata": {},
   "source": [
    "# Question 4"
   ]
  },
  {
   "cell_type": "code",
   "execution_count": 84,
   "metadata": {},
   "outputs": [
    {
     "name": "stdout",
     "output_type": "stream",
     "text": [
      "enter first no :1\n",
      "enter another no :10\n",
      "prime no between  1 and 10 are :\n",
      "1  not a prime no\n",
      "2 is a prime no\n",
      "3 is a prime no\n",
      "4 not prime no\n",
      "5 is a prime no\n",
      "6 not prime no\n",
      "7 is a prime no\n",
      "8 not prime no\n",
      "9 not prime no\n"
     ]
    }
   ],
   "source": [
    "a = int(input(\"enter first no :\"))\n",
    "b = int(input(\"enter another no :\"))\n",
    "print(\"prime no between \",a,\"and\",b,\"are :\")\n",
    "for no in range(a,b):\n",
    "    if no >1:\n",
    "        for i in range(2,no):\n",
    "            if (no % i) == 0:\n",
    "                print(no, \"not prime no\")\n",
    "                break\n",
    "        else :\n",
    "            print(no,\"is a prime no\")\n",
    "    else:\n",
    "        print(no,\" not a prime no\")"
   ]
  },
  {
   "cell_type": "markdown",
   "metadata": {},
   "source": [
    "# Question 5"
   ]
  },
  {
   "cell_type": "code",
   "execution_count": 3,
   "metadata": {},
   "outputs": [
    {
     "name": "stdout",
     "output_type": "stream",
     "text": [
      "enter a interger no :8\n",
      "enter a another no :9\n",
      "LCM of two no. is : 72\n"
     ]
    }
   ],
   "source": [
    "a=int(input(\"enter a interger no :\"))\n",
    "b = int(input(\"enter a another no :\"))\n",
    "def lcm(a,b):\n",
    "    if(a>b):\n",
    "        maximum = a\n",
    "    else:\n",
    "        maximum = b\n",
    "    while(True):\n",
    "        if(maximum%a==0 and maximum%b==0):\n",
    "           return maximum\n",
    "        else:\n",
    "            maximum += 1\n",
    "    return maximum\n",
    "print(\"LCM of two no. is :\", lcm(a,b)) "
   ]
  },
  {
   "cell_type": "markdown",
   "metadata": {},
   "source": [
    "# Question 6"
   ]
  },
  {
   "cell_type": "code",
   "execution_count": 29,
   "metadata": {},
   "outputs": [
    {
     "name": "stdout",
     "output_type": "stream",
     "text": [
      "enter the 15 numbers :1 23 3 4 5\n",
      "sorted_list is :  [23, 5, 4, 3, 1]\n",
      "Their indecis are :  [0, 1, 2, 3, 4]\n"
     ]
    }
   ],
   "source": [
    "def bubblesort(num):\n",
    "    n = len(num)\n",
    "    lst = []\n",
    "    for i in range(n):\n",
    "        lst.append(i)\n",
    "    count = 1\n",
    "    while(count!=0):\n",
    "        count = 0\n",
    "        for i in range(n-1):\n",
    "            a = num[i]\n",
    "            b = num[i+1]\n",
    "            c = lst[i]\n",
    "            d = lst[i+1]\n",
    "            if b>a:\n",
    "                num[i], num[i+1] = b, a\n",
    "                lst[i], lst[i+1] = d, c\n",
    "                count+=1\n",
    "    return num, lst\n",
    "num = [int(i) for i in input(\"enter the 15 numbers :\").split()]\n",
    "print(\"sorted_list is : \",bubblesort(num)[0])\n",
    "print(\"Their indecis are : \", bubblesort(num)[1]) "
   ]
  },
  {
   "cell_type": "markdown",
   "metadata": {},
   "source": [
    "# Question 7"
   ]
  },
  {
   "cell_type": "code",
   "execution_count": 51,
   "metadata": {},
   "outputs": [
    {
     "name": "stdout",
     "output_type": "stream",
     "text": [
      "enter the 15 numbers :1 2 3\n",
      "sorted_list is :  [3 2 1]\n",
      "their indecis are : [0 1 2]\n"
     ]
    }
   ],
   "source": [
    "import numpy as np\n",
    "lst = [int(i) for i in input(\"enter the 15 numbers :\").split()]\n",
    "arr = np.array(lst)\n",
    "\n",
    "def bubblesort_arr(arr):\n",
    "    n = len(arr)\n",
    "    indices_arr = np.zeros(n, dtype= \"int\")\n",
    "    for i in range(n):\n",
    "        indices_arr[i] = i\n",
    "    count = 1\n",
    "    while(count!=0):\n",
    "        count = 0\n",
    "        for i in range(n-1):\n",
    "            a = arr[i]\n",
    "            b = arr[i+1]\n",
    "            c = indices_arr[i]\n",
    "            d = indices_arr[i+1]\n",
    "            if b>a:\n",
    "                arr[i], arr[i+1] = b, a\n",
    "                indices_arr[i], indices_arr[i+1] = d, c\n",
    "                count+=1\n",
    "    return arr, indices_arr\n",
    "print(\"sorted_list is : \",bubblesort_arr(arr)[0])\n",
    "print(\"their indecis are :\",bubblesort_arr(arr)[1] )"
   ]
  },
  {
   "cell_type": "markdown",
   "metadata": {},
   "source": [
    "# Question 8"
   ]
  },
  {
   "cell_type": "code",
   "execution_count": 42,
   "metadata": {},
   "outputs": [
    {
     "name": "stdout",
     "output_type": "stream",
     "text": [
      "1 2\n",
      "[[5 2]]\n"
     ]
    }
   ],
   "source": [
    "import numpy as np\n",
    "import random\n",
    "n, m = [int(i) for i in input().split()]\n",
    "arr = np.random.randint(-2, 6, size = (n, m))\n",
    "print(arr)"
   ]
  },
  {
   "cell_type": "markdown",
   "metadata": {},
   "source": [
    "# Question 9"
   ]
  },
  {
   "cell_type": "code",
   "execution_count": 85,
   "metadata": {},
   "outputs": [
    {
     "name": "stdout",
     "output_type": "stream",
     "text": [
      "1 2 3 \n",
      "correct answer\n",
      "resultant matrix :  [[-10, -10, 16]]\n"
     ]
    }
   ],
   "source": [
    "import numpy as np\n",
    "import random\n",
    "m , n ,p = [int(i) for i in input().split()]\n",
    "mat1 = np.random.randint(-2, 6, size = (m,n))\n",
    "mat2 = np.random.randint(-2, 6, size = (n,p))\n",
    "mat3 = [[0 for i in range(p)] for j in range(m)]\n",
    "for i in range(m):\n",
    "    a = mat1[i]\n",
    "    for j in range(p):\n",
    "        b = mat2[:,j]\n",
    "        mat3[i][j] = sum([a[i]*b[i] for i in range(len(a))])\n",
    "res = np.dot(mat1, mat2)\n",
    "comparison = res==mat3\n",
    "if comparison.all():\n",
    "    print(\"correct answer\")\n",
    "else:\n",
    "    print(\"incorrect answer\")\n",
    "print(\"resultant matrix : \", mat3)"
   ]
  },
  {
   "cell_type": "markdown",
   "metadata": {},
   "source": [
    "# Question 10"
   ]
  },
  {
   "cell_type": "code",
   "execution_count": 36,
   "metadata": {},
   "outputs": [],
   "source": [
    "import random as rd\n",
    "import csv\n",
    "m,n = 100,10\n",
    "lst1 = [[ rd.random() for j in range(n)] for i in range(m)]\n",
    "filename = \"random_no.csv\"\n",
    "with open(filename,'w', newline='') as my_csv:\n",
    "    writer = csv.writer(my_csv)\n",
    "    writer.writerows(lst1)\n"
   ]
  },
  {
   "cell_type": "markdown",
   "metadata": {},
   "source": [
    "# Question 11"
   ]
  },
  {
   "cell_type": "markdown",
   "metadata": {},
   "source": [
    "## Question 11(a)"
   ]
  },
  {
   "cell_type": "code",
   "execution_count": 86,
   "metadata": {
    "scrolled": false
   },
   "outputs": [],
   "source": [
    "import csv\n",
    "filename = \"random_no.csv\"\n",
    "data = []\n",
    "with open(filename,'r') as csvfile:\n",
    "    b = csv.reader(csvfile)\n",
    "    for row in b:\n",
    "        data.append(row)\n",
    "        "
   ]
  },
  {
   "cell_type": "markdown",
   "metadata": {},
   "source": [
    "## Question 11(b)"
   ]
  },
  {
   "cell_type": "code",
   "execution_count": 87,
   "metadata": {},
   "outputs": [
    {
     "ename": "KeyError",
     "evalue": "'Unnamed: 0'",
     "output_type": "error",
     "traceback": [
      "\u001b[1;31m---------------------------------------------------------------------------\u001b[0m",
      "\u001b[1;31mKeyError\u001b[0m                                  Traceback (most recent call last)",
      "\u001b[1;32mC:\\ProgramData\\Anaconda3\\lib\\site-packages\\pandas\\core\\indexes\\base.py\u001b[0m in \u001b[0;36mget_loc\u001b[1;34m(self, key, method, tolerance)\u001b[0m\n\u001b[0;32m   2656\u001b[0m             \u001b[1;32mtry\u001b[0m\u001b[1;33m:\u001b[0m\u001b[1;33m\u001b[0m\u001b[1;33m\u001b[0m\u001b[0m\n\u001b[1;32m-> 2657\u001b[1;33m                 \u001b[1;32mreturn\u001b[0m \u001b[0mself\u001b[0m\u001b[1;33m.\u001b[0m\u001b[0m_engine\u001b[0m\u001b[1;33m.\u001b[0m\u001b[0mget_loc\u001b[0m\u001b[1;33m(\u001b[0m\u001b[0mkey\u001b[0m\u001b[1;33m)\u001b[0m\u001b[1;33m\u001b[0m\u001b[1;33m\u001b[0m\u001b[0m\n\u001b[0m\u001b[0;32m   2658\u001b[0m             \u001b[1;32mexcept\u001b[0m \u001b[0mKeyError\u001b[0m\u001b[1;33m:\u001b[0m\u001b[1;33m\u001b[0m\u001b[1;33m\u001b[0m\u001b[0m\n",
      "\u001b[1;32mpandas/_libs/index.pyx\u001b[0m in \u001b[0;36mpandas._libs.index.IndexEngine.get_loc\u001b[1;34m()\u001b[0m\n",
      "\u001b[1;32mpandas/_libs/index.pyx\u001b[0m in \u001b[0;36mpandas._libs.index.IndexEngine.get_loc\u001b[1;34m()\u001b[0m\n",
      "\u001b[1;32mpandas/_libs/hashtable_class_helper.pxi\u001b[0m in \u001b[0;36mpandas._libs.hashtable.PyObjectHashTable.get_item\u001b[1;34m()\u001b[0m\n",
      "\u001b[1;32mpandas/_libs/hashtable_class_helper.pxi\u001b[0m in \u001b[0;36mpandas._libs.hashtable.PyObjectHashTable.get_item\u001b[1;34m()\u001b[0m\n",
      "\u001b[1;31mKeyError\u001b[0m: 'Unnamed: 0'",
      "\nDuring handling of the above exception, another exception occurred:\n",
      "\u001b[1;31mKeyError\u001b[0m                                  Traceback (most recent call last)",
      "\u001b[1;32m<ipython-input-87-cf5863863e5d>\u001b[0m in \u001b[0;36m<module>\u001b[1;34m\u001b[0m\n\u001b[0;32m      1\u001b[0m \u001b[1;32mimport\u001b[0m \u001b[0mpandas\u001b[0m \u001b[1;32mas\u001b[0m \u001b[0mpd\u001b[0m\u001b[1;33m\u001b[0m\u001b[1;33m\u001b[0m\u001b[0m\n\u001b[0;32m      2\u001b[0m \u001b[0mX\u001b[0m \u001b[1;33m=\u001b[0m \u001b[0mpd\u001b[0m\u001b[1;33m.\u001b[0m\u001b[0mread_csv\u001b[0m\u001b[1;33m(\u001b[0m\u001b[1;34m\"random_no.csv\"\u001b[0m\u001b[1;33m)\u001b[0m\u001b[1;33m\u001b[0m\u001b[1;33m\u001b[0m\u001b[0m\n\u001b[1;32m----> 3\u001b[1;33m \u001b[1;32mdel\u001b[0m \u001b[0mX\u001b[0m\u001b[1;33m[\u001b[0m\u001b[1;34m'Unnamed: 0'\u001b[0m\u001b[1;33m]\u001b[0m\u001b[1;33m\u001b[0m\u001b[1;33m\u001b[0m\u001b[0m\n\u001b[0m\u001b[0;32m      4\u001b[0m \u001b[0mmu\u001b[0m \u001b[1;33m=\u001b[0m \u001b[0mX\u001b[0m\u001b[1;33m.\u001b[0m\u001b[0mmean\u001b[0m\u001b[1;33m(\u001b[0m\u001b[0maxis\u001b[0m \u001b[1;33m=\u001b[0m \u001b[1;36m0\u001b[0m\u001b[1;33m)\u001b[0m\u001b[1;33m\u001b[0m\u001b[1;33m\u001b[0m\u001b[0m\n\u001b[0;32m      5\u001b[0m \u001b[0mvar1\u001b[0m \u001b[1;33m=\u001b[0m \u001b[0mX\u001b[0m\u001b[1;33m-\u001b[0m\u001b[0mmu\u001b[0m\u001b[1;33m\u001b[0m\u001b[1;33m\u001b[0m\u001b[0m\n",
      "\u001b[1;32mC:\\ProgramData\\Anaconda3\\lib\\site-packages\\pandas\\core\\generic.py\u001b[0m in \u001b[0;36m__delitem__\u001b[1;34m(self, key)\u001b[0m\n\u001b[0;32m   3313\u001b[0m             \u001b[1;31m# there was no match, this call should raise the appropriate\u001b[0m\u001b[1;33m\u001b[0m\u001b[1;33m\u001b[0m\u001b[1;33m\u001b[0m\u001b[0m\n\u001b[0;32m   3314\u001b[0m             \u001b[1;31m# exception:\u001b[0m\u001b[1;33m\u001b[0m\u001b[1;33m\u001b[0m\u001b[1;33m\u001b[0m\u001b[0m\n\u001b[1;32m-> 3315\u001b[1;33m             \u001b[0mself\u001b[0m\u001b[1;33m.\u001b[0m\u001b[0m_data\u001b[0m\u001b[1;33m.\u001b[0m\u001b[0mdelete\u001b[0m\u001b[1;33m(\u001b[0m\u001b[0mkey\u001b[0m\u001b[1;33m)\u001b[0m\u001b[1;33m\u001b[0m\u001b[1;33m\u001b[0m\u001b[0m\n\u001b[0m\u001b[0;32m   3316\u001b[0m \u001b[1;33m\u001b[0m\u001b[0m\n\u001b[0;32m   3317\u001b[0m         \u001b[1;31m# delete from the caches\u001b[0m\u001b[1;33m\u001b[0m\u001b[1;33m\u001b[0m\u001b[1;33m\u001b[0m\u001b[0m\n",
      "\u001b[1;32mC:\\ProgramData\\Anaconda3\\lib\\site-packages\\pandas\\core\\internals\\managers.py\u001b[0m in \u001b[0;36mdelete\u001b[1;34m(self, item)\u001b[0m\n\u001b[0;32m    983\u001b[0m         \u001b[0mDelete\u001b[0m \u001b[0mselected\u001b[0m \u001b[0mitem\u001b[0m \u001b[1;33m(\u001b[0m\u001b[0mitems\u001b[0m \u001b[1;32mif\u001b[0m \u001b[0mnon\u001b[0m\u001b[1;33m-\u001b[0m\u001b[0munique\u001b[0m\u001b[1;33m)\u001b[0m \u001b[1;32min\u001b[0m\u001b[1;33m-\u001b[0m\u001b[0mplace\u001b[0m\u001b[1;33m.\u001b[0m\u001b[1;33m\u001b[0m\u001b[1;33m\u001b[0m\u001b[0m\n\u001b[0;32m    984\u001b[0m         \"\"\"\n\u001b[1;32m--> 985\u001b[1;33m         \u001b[0mindexer\u001b[0m \u001b[1;33m=\u001b[0m \u001b[0mself\u001b[0m\u001b[1;33m.\u001b[0m\u001b[0mitems\u001b[0m\u001b[1;33m.\u001b[0m\u001b[0mget_loc\u001b[0m\u001b[1;33m(\u001b[0m\u001b[0mitem\u001b[0m\u001b[1;33m)\u001b[0m\u001b[1;33m\u001b[0m\u001b[1;33m\u001b[0m\u001b[0m\n\u001b[0m\u001b[0;32m    986\u001b[0m \u001b[1;33m\u001b[0m\u001b[0m\n\u001b[0;32m    987\u001b[0m         \u001b[0mis_deleted\u001b[0m \u001b[1;33m=\u001b[0m \u001b[0mnp\u001b[0m\u001b[1;33m.\u001b[0m\u001b[0mzeros\u001b[0m\u001b[1;33m(\u001b[0m\u001b[0mself\u001b[0m\u001b[1;33m.\u001b[0m\u001b[0mshape\u001b[0m\u001b[1;33m[\u001b[0m\u001b[1;36m0\u001b[0m\u001b[1;33m]\u001b[0m\u001b[1;33m,\u001b[0m \u001b[0mdtype\u001b[0m\u001b[1;33m=\u001b[0m\u001b[0mnp\u001b[0m\u001b[1;33m.\u001b[0m\u001b[0mbool_\u001b[0m\u001b[1;33m)\u001b[0m\u001b[1;33m\u001b[0m\u001b[1;33m\u001b[0m\u001b[0m\n",
      "\u001b[1;32mC:\\ProgramData\\Anaconda3\\lib\\site-packages\\pandas\\core\\indexes\\base.py\u001b[0m in \u001b[0;36mget_loc\u001b[1;34m(self, key, method, tolerance)\u001b[0m\n\u001b[0;32m   2657\u001b[0m                 \u001b[1;32mreturn\u001b[0m \u001b[0mself\u001b[0m\u001b[1;33m.\u001b[0m\u001b[0m_engine\u001b[0m\u001b[1;33m.\u001b[0m\u001b[0mget_loc\u001b[0m\u001b[1;33m(\u001b[0m\u001b[0mkey\u001b[0m\u001b[1;33m)\u001b[0m\u001b[1;33m\u001b[0m\u001b[1;33m\u001b[0m\u001b[0m\n\u001b[0;32m   2658\u001b[0m             \u001b[1;32mexcept\u001b[0m \u001b[0mKeyError\u001b[0m\u001b[1;33m:\u001b[0m\u001b[1;33m\u001b[0m\u001b[1;33m\u001b[0m\u001b[0m\n\u001b[1;32m-> 2659\u001b[1;33m                 \u001b[1;32mreturn\u001b[0m \u001b[0mself\u001b[0m\u001b[1;33m.\u001b[0m\u001b[0m_engine\u001b[0m\u001b[1;33m.\u001b[0m\u001b[0mget_loc\u001b[0m\u001b[1;33m(\u001b[0m\u001b[0mself\u001b[0m\u001b[1;33m.\u001b[0m\u001b[0m_maybe_cast_indexer\u001b[0m\u001b[1;33m(\u001b[0m\u001b[0mkey\u001b[0m\u001b[1;33m)\u001b[0m\u001b[1;33m)\u001b[0m\u001b[1;33m\u001b[0m\u001b[1;33m\u001b[0m\u001b[0m\n\u001b[0m\u001b[0;32m   2660\u001b[0m         \u001b[0mindexer\u001b[0m \u001b[1;33m=\u001b[0m \u001b[0mself\u001b[0m\u001b[1;33m.\u001b[0m\u001b[0mget_indexer\u001b[0m\u001b[1;33m(\u001b[0m\u001b[1;33m[\u001b[0m\u001b[0mkey\u001b[0m\u001b[1;33m]\u001b[0m\u001b[1;33m,\u001b[0m \u001b[0mmethod\u001b[0m\u001b[1;33m=\u001b[0m\u001b[0mmethod\u001b[0m\u001b[1;33m,\u001b[0m \u001b[0mtolerance\u001b[0m\u001b[1;33m=\u001b[0m\u001b[0mtolerance\u001b[0m\u001b[1;33m)\u001b[0m\u001b[1;33m\u001b[0m\u001b[1;33m\u001b[0m\u001b[0m\n\u001b[0;32m   2661\u001b[0m         \u001b[1;32mif\u001b[0m \u001b[0mindexer\u001b[0m\u001b[1;33m.\u001b[0m\u001b[0mndim\u001b[0m \u001b[1;33m>\u001b[0m \u001b[1;36m1\u001b[0m \u001b[1;32mor\u001b[0m \u001b[0mindexer\u001b[0m\u001b[1;33m.\u001b[0m\u001b[0msize\u001b[0m \u001b[1;33m>\u001b[0m \u001b[1;36m1\u001b[0m\u001b[1;33m:\u001b[0m\u001b[1;33m\u001b[0m\u001b[1;33m\u001b[0m\u001b[0m\n",
      "\u001b[1;32mpandas/_libs/index.pyx\u001b[0m in \u001b[0;36mpandas._libs.index.IndexEngine.get_loc\u001b[1;34m()\u001b[0m\n",
      "\u001b[1;32mpandas/_libs/index.pyx\u001b[0m in \u001b[0;36mpandas._libs.index.IndexEngine.get_loc\u001b[1;34m()\u001b[0m\n",
      "\u001b[1;32mpandas/_libs/hashtable_class_helper.pxi\u001b[0m in \u001b[0;36mpandas._libs.hashtable.PyObjectHashTable.get_item\u001b[1;34m()\u001b[0m\n",
      "\u001b[1;32mpandas/_libs/hashtable_class_helper.pxi\u001b[0m in \u001b[0;36mpandas._libs.hashtable.PyObjectHashTable.get_item\u001b[1;34m()\u001b[0m\n",
      "\u001b[1;31mKeyError\u001b[0m: 'Unnamed: 0'"
     ]
    }
   ],
   "source": [
    "import pandas as pd\n",
    "X = pd.read_csv(\"random_no.csv\")\n",
    "del X['Unnamed: 0']\n",
    "mu = X.mean(axis = 0)\n",
    "var1 = X-mu\n",
    "var2 = var1.T\n",
    "prod = var1.dot(var2)\n",
    "prod.mean(axis =0)"
   ]
  },
  {
   "cell_type": "markdown",
   "metadata": {},
   "source": [
    "# Question 12"
   ]
  },
  {
   "cell_type": "code",
   "execution_count": 17,
   "metadata": {},
   "outputs": [
    {
     "name": "stdout",
     "output_type": "stream",
     "text": [
      "1 2\n",
      "1 2\n",
      "angle of c1 :  (2.23606797749979, 1.1071487177940904)\n",
      "angle of c2 :  (2.23606797749979, 1.1071487177940904)\n",
      "conjugate of c1 is:  (1-2j)\n",
      "conjugate of c2 is :  (1-2j)\n",
      "addition is :  (2+4j)\n",
      "subtraction is :  0j\n",
      "multiplication is :  (-3+4j)\n",
      "division is ;  (1+0j)\n",
      "absolute value of c1  :  2.23606797749979\n",
      "absolute value of c2:  2.23606797749979\n"
     ]
    }
   ],
   "source": [
    "import math\n",
    "import cmath\n",
    "class Complex(object):\n",
    "    def __init__(self, real, img = 0.0):\n",
    "        self.real = real\n",
    "        self.img = img\n",
    "    def __abs__(self):\n",
    "        return math.abs(self)\n",
    "    def __add__(self, other):\n",
    "        return complex(other.real + self.real, other.img + self.img)\n",
    "     def __sub__(self, other):\n",
    "        return complex(self.real-other.real, self.img-other.img)\n",
    "    def __mul__(self,other):\n",
    "        real =(self.real*other.real-self.img*other.img)\n",
    "        img = (self.real*other.img-other.real*self.img)\n",
    "        return complex(real,img)\n",
    "    def __conj__(self):\n",
    "        return complex(self.real, -self.img)\n",
    "    def __truedev__(self,other):\n",
    "        num = other.real**2 + other.img**2\n",
    "        num2 = self.__mul__(other.conjugate)/num\n",
    "        return complex(num2)\n",
    "a, b = [int(i) for i in input().split()]\n",
    "c, d = [int(i) for i in input().split()]\n",
    "c1 = complex(a,b)\n",
    "c2 = complex(c,d)\n",
    "print(\"absolute value of c1  : \",c1.__abs__())\n",
    "print(\"absolute value of c2: \",c2.__abs__())\n",
    "print(\"conjugate of c1 is: \",c1.conjugate())\n",
    "print(\"conjugate of c2 is : \" ,c2.conjugate())\n",
    "print(\"addition is : \",c1.__add__(c2))\n",
    "print(\"subtraction is : \",c1.__sub__(c2))\n",
    "print(\"multiplication is : \",c1.__mul__(c2))\n",
    "print(\"division is ; \",c1.__truediv__(c2))\n",
    "print(\"angle of c1 : \",cmath.polar(c1))\n",
    "print(\"angle of c2 : \",cmath.polar(c2))"
   ]
  },
  {
   "cell_type": "markdown",
   "metadata": {},
   "source": [
    "# Question 13"
   ]
  },
  {
   "cell_type": "code",
   "execution_count": 8,
   "metadata": {},
   "outputs": [
    {
     "data": {
      "image/png": "[encoded data removed]",
      "text/plain": [
       "<Figure size 432x288 with 1 Axes>"
      ]
     },
     "metadata": {
      "needs_background": "light"
     },
     "output_type": "display_data"
    }
   ],
   "source": [
    "# Create Data Points\n",
    "import numpy as np\n",
    "\n",
    "x13 = np.linspace(start = -10, stop = 10, num = 3, endpoint= True)\n",
    "y13 = x13*3 + 2\n",
    "\n",
    "# Generate Plot without Matplotlib\n",
    "# lineplot(x13, y13)\n",
    "\n",
    "\n",
    "import matplotlib.pyplot as plt\n",
    "%matplotlib inline\n",
    "\n",
    "plt.plot(x13, y13);"
   ]
  },
  {
   "cell_type": "markdown",
   "metadata": {},
   "source": [
    "# Question 14"
   ]
  },
  {
   "cell_type": "code",
   "execution_count": 63,
   "metadata": {},
   "outputs": [
    {
     "data": {
      "text/plain": [
       "<matplotlib.collections.PathCollection at 0x1ca586fc1d0>"
      ]
     },
     "execution_count": 63,
     "metadata": {},
     "output_type": "execute_result"
    },
    {
     "data": {
      "image/png": "[encoded data removed]",
      "text/plain": [
       "<Figure size 720x360 with 1 Axes>"
      ]
     },
     "metadata": {
      "needs_background": "light"
     },
     "output_type": "display_data"
    }
   ],
   "source": [
    "# Create Data Points\n",
    "import math\n",
    "x14 = np.linspace(start = -5, stop = 15, num = 100, endpoint = True)\n",
    "y14 = np.linspace(start = -10, stop = 0, num =100, endpoint = True)\n",
    "yneg14 = -((1 - ((x14-5)**2)/(10**2))*(5**2))**0.5 - 5\n",
    "ypos14 = ((1 - ((x14-5)**2)/(10**2))*(5**2))**0.5 - 5\n",
    "ymaj14 = np.zeros(100) - 5\n",
    "xmin14 = np.zeros(100) + 5\n",
    "\n",
    "import matplotlib.pyplot as plt\n",
    "%matplotlib inline\n",
    "\n",
    "fig = plt.figure(figsize=(10,5))\n",
    "plt.xlim(-10,20)\n",
    "plt.ylim(-15,5)\n",
    "\n",
    "plt.plot(x14, yneg14)\n",
    "plt.plot(x14, ypos14)\n",
    "plt.plot(x14, ymaj14)\n",
    "plt.plot(xmin14, y14)\n",
    "plt.scatter(5,-5)"
   ]
  }
 ],
 "metadata": {
  "kernelspec": {
   "display_name": "Python 3",
   "language": "python",
   "name": "python3"
  },
  "language_info": {
   "codemirror_mode": {
    "name": "ipython",
    "version": 3
   },
   "file_extension": ".py",
   "mimetype": "text/x-python",
   "name": "python",
   "nbconvert_exporter": "python",
   "pygments_lexer": "ipython3",
   "version": "3.7.3"
  },
  "toc": {
   "base_numbering": 1,
   "nav_menu": {},
   "number_sections": true,
   "sideBar": true,
   "skip_h1_title": false,
   "title_cell": "Table of Contents",
   "title_sidebar": "Contents",
   "toc_cell": false,
   "toc_position": {},
   "toc_section_display": true,
   "toc_window_display": false
  }
 },
 "nbformat": 4,
 "nbformat_minor": 2
}
