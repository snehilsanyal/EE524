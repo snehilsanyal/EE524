{
  "nbformat": 4,
  "nbformat_minor": 0,
  "metadata": {
    "colab": {
      "name": "Assignment1.ipynb",
      "provenance": [],
      "collapsed_sections": []
    },
    "kernelspec": {
      "name": "python3",
      "display_name": "Python 3"
    }
  },
  "cells": [
    {
      "cell_type": "markdown",
      "metadata": {
        "id": "Vwf_zEDPtPVm"
      },
      "source": [
        "#Question1"
      ]
    },
    {
      "cell_type": "code",
      "metadata": {
        "id": "3D3WzRhTtX9V",
        "outputId": "0dbe0aad-e684-4a93-fdf8-baaf554039fd",
        "colab": {
          "base_uri": "https://localhost:8080/",
          "height": 34
        }
      },
      "source": [
        "print(\"Hello World\")"
      ],
      "execution_count": null,
      "outputs": [
        {
          "output_type": "stream",
          "text": [
            "Hello World\n"
          ],
          "name": "stdout"
        }
      ]
    },
    {
      "cell_type": "markdown",
      "metadata": {
        "id": "q7Ut6umXtspH"
      },
      "source": [
        "#Question2"
      ]
    },
    {
      "cell_type": "code",
      "metadata": {
        "id": "RdUtmTn8teZM",
        "outputId": "c161c48b-bd6c-4653-8f22-488a1f590791",
        "colab": {
          "base_uri": "https://localhost:8080/",
          "height": 153
        }
      },
      "source": [
        "print(\"Enter the two numbers\")\n",
        "a=int(input())\n",
        "b=int(input())\n",
        "c=a+b\n",
        "d=a-b\n",
        "e=a*b\n",
        "f=a/b\n",
        "g=a%b\n",
        "print(\"Addition =\",c,\"\\nSubtraction =\",d,\"\\nSubtraction =\",e,\"\\nDivision =\",f,\"\\nRemainder =\",g)"
      ],
      "execution_count": null,
      "outputs": [
        {
          "output_type": "stream",
          "text": [
            "Enter the two numbers\n",
            "2\n",
            "3\n",
            "Addition = 5 \n",
            "Subtraction = -1 \n",
            "Subtraction = 6 \n",
            "Division = 0.6666666666666666 \n",
            "Remainder = 2\n"
          ],
          "name": "stdout"
        }
      ]
    },
    {
      "cell_type": "markdown",
      "metadata": {
        "id": "XhoomPOStvgl"
      },
      "source": [
        "#Question3"
      ]
    },
    {
      "cell_type": "code",
      "metadata": {
        "id": "5ogmTbkatkNF",
        "outputId": "d2cca69e-8962-45f6-a771-f7c89ba436b3",
        "colab": {
          "base_uri": "https://localhost:8080/",
          "height": 68
        }
      },
      "source": [
        "print(\"Enter the number\")\n",
        "num=int(input())\n",
        "k=1\n",
        "for i in range(1,num+1):\n",
        "    k=k*i\n",
        "print(\"Factorial of the number=\",k)"
      ],
      "execution_count": null,
      "outputs": [
        {
          "output_type": "stream",
          "text": [
            "Enter the number\n",
            "4\n",
            "Factorial of the number= 24\n"
          ],
          "name": "stdout"
        }
      ]
    },
    {
      "cell_type": "markdown",
      "metadata": {
        "id": "ggjHvwMTt5en"
      },
      "source": [
        "#Question4"
      ]
    },
    {
      "cell_type": "code",
      "metadata": {
        "id": "7ynCagujt3Eb",
        "outputId": "f2920ccf-d80e-49fc-b7ba-0e408d09fc17",
        "colab": {
          "base_uri": "https://localhost:8080/",
          "height": 119
        }
      },
      "source": [
        "print(\"Enter the lower and upper numbers of the set\")\n",
        "a=int(input())\n",
        "b=int(input())\n",
        "numbers=list(range(a,b+1))\n",
        "def iscomposite(num):\n",
        "    for k in range(2,num):\n",
        "        if (num%k==0):\n",
        "            return True\n",
        "\n",
        "for i in range(a,b+1):\n",
        "    if iscomposite(i)==True:\n",
        "        numbers.remove(i)\n",
        "    else:\n",
        "        continue\n",
        "for j in numbers:\n",
        "    print(j)"
      ],
      "execution_count": null,
      "outputs": [
        {
          "output_type": "stream",
          "text": [
            "Enter the lower and upper numbers of the set\n",
            "4\n",
            "12\n",
            "5\n",
            "7\n",
            "11\n"
          ],
          "name": "stdout"
        }
      ]
    },
    {
      "cell_type": "markdown",
      "metadata": {
        "id": "C8cZenQSuIlG"
      },
      "source": [
        "#Question5"
      ]
    },
    {
      "cell_type": "code",
      "metadata": {
        "id": "63-R0S8it_Zl",
        "outputId": "f617a231-764a-45d8-c4be-f3211b5ceff3",
        "colab": {
          "base_uri": "https://localhost:8080/",
          "height": 102
        }
      },
      "source": [
        "print(\"Enter the two numbers for finding lcm\")\n",
        "a=int(input())\n",
        "b=int(input())\n",
        "k=max(a,b)\n",
        "while(1):\n",
        "    if(k%a==0 and k%b==0):\n",
        "        print(\"The lcm of the two numbers are = \")\n",
        "        print(k)\n",
        "        break\n",
        "    else:\n",
        "        k=k+1"
      ],
      "execution_count": null,
      "outputs": [
        {
          "output_type": "stream",
          "text": [
            "Enter the two numbers for finding lcm\n",
            "5\n",
            "15\n",
            "The lcm of the two numbers are = \n",
            "15\n"
          ],
          "name": "stdout"
        }
      ]
    },
    {
      "cell_type": "markdown",
      "metadata": {
        "id": "WhwyOLqHui9a"
      },
      "source": [
        "#Question6"
      ]
    },
    {
      "cell_type": "code",
      "metadata": {
        "id": "zGcK_hYNuQCF",
        "outputId": "724c1d3d-1d76-4ae0-c689-063e6666c4f0",
        "colab": {
          "base_uri": "https://localhost:8080/",
          "height": 68
        }
      },
      "source": [
        "import numpy as np\n",
        "from numpy import random\n",
        "\n",
        "def bubbleSort(list1):\n",
        "    L=len(list1)\n",
        "    list_index=np.arange(1,L+1,1)\n",
        "    for i in range(L-1):\n",
        "        for j in range(L-i-1):\n",
        "            if list1[j+1]>list1[j]:\n",
        "                list1[j],list1[j+1]=list1[j+1],list1[j]\n",
        "                list_index[j],list_index[j+1]=list_index[j+1],list_index[j]\n",
        "    print(list1)\n",
        "    print(list_index)\n",
        "my_list=[78,15,69,3,4,72,90,51,37,26,56,67,13,94,53]\n",
        "print(\"The sorted list and its positions are respectively:\")\n",
        "bubbleSort(my_list)"
      ],
      "execution_count": 14,
      "outputs": [
        {
          "output_type": "stream",
          "text": [
            "The sorted array and its positions are respectively:\n",
            "[94, 90, 78, 72, 69, 67, 56, 53, 51, 37, 26, 15, 13, 4, 3]\n",
            "[14  7  1  6  3 12 11 15  8  9 10  2 13  5  4]\n"
          ],
          "name": "stdout"
        }
      ]
    },
    {
      "cell_type": "markdown",
      "metadata": {
        "id": "C4U1UZ-91CSW"
      },
      "source": [
        "#Question7"
      ]
    },
    {
      "cell_type": "code",
      "metadata": {
        "id": "WilxMGHFuuGl",
        "outputId": "986b51ec-f0f9-4451-d83c-920c1320dd58",
        "colab": {
          "base_uri": "https://localhost:8080/",
          "height": 68
        }
      },
      "source": [
        "import numpy as np\n",
        "from numpy import *\n",
        "my_array = np.array([78,15,69,3,4,72,90,51,37,26,56,67,13,94,53])\n",
        "array_index = np.array(range(1,16))\n",
        "L=len(my_array)\n",
        "for i in range(0,L):\n",
        "  for j in range(0,L-i-1):\n",
        "    if my_array[j] > my_array[j+1]:\n",
        "        my_array[j],my_array[j+1]=my_array[j+1],my_array[j]\n",
        "        array_index[j],array_index[j+1]=array_index[j+1],array_index[j]\n",
        "print(\"The sorted array and its positions are respectively:\")\n",
        "print(my_array)\n",
        "print(array_index)"
      ],
      "execution_count": 16,
      "outputs": [
        {
          "output_type": "stream",
          "text": [
            "The sorted array and its positions are respectively:\n",
            "[ 3  4 13 15 26 37 51 53 56 67 69 72 78 90 94]\n",
            "[ 4  5 13  2 10  9  8 15 11 12  3  6  1  7 14]\n"
          ],
          "name": "stdout"
        }
      ]
    },
    {
      "cell_type": "markdown",
      "metadata": {
        "id": "p2qzyok11bm0"
      },
      "source": [
        "#Question8"
      ]
    },
    {
      "cell_type": "code",
      "metadata": {
        "id": "5IhwkxDC1drL",
        "outputId": "eb5a09f6-2a1a-48fc-dfb3-650aa27151dc",
        "colab": {
          "base_uri": "https://localhost:8080/",
          "height": 85
        }
      },
      "source": [
        "import numpy as np\n",
        "from numpy import random\n",
        "m=int(input())\n",
        "n=int(input())\n",
        "A=np.random.randint(-2,5,(m,n))\n",
        "print(A)"
      ],
      "execution_count": 1,
      "outputs": [
        {
          "output_type": "stream",
          "text": [
            "2\n",
            "3\n",
            "[[ 0  1 -1]\n",
            " [ 4  1  1]]\n"
          ],
          "name": "stdout"
        }
      ]
    },
    {
      "cell_type": "markdown",
      "metadata": {
        "id": "nzYATog017bs"
      },
      "source": [
        "#Question9"
      ]
    },
    {
      "cell_type": "code",
      "metadata": {
        "id": "V1bV0rfg1oDI",
        "outputId": "a119bfa4-5ec2-4c06-a5ef-0e1dc68b322f",
        "colab": {
          "base_uri": "https://localhost:8080/",
          "height": 204
        }
      },
      "source": [
        "import numpy as np\n",
        "from numpy import random\n",
        "m=int(input())\n",
        "n=int(input())\n",
        "p=int(input())\n",
        "A=np.random.randint(0,10,(m,n))\n",
        "B=np.random.randint(0,10,(n,p))\n",
        "C=np.zeros((m,p))\n",
        "for i in range(m):\n",
        "    for j in range(p):\n",
        "        for k in range(n):\n",
        "            C[i][j] += A[i][k]*B[k][j]\n",
        "print(\"The matrices are:\")\n",
        "print(A)\n",
        "print(B)\n",
        "print(\"Multiplication without using built-in function:\")\n",
        "print(C)\n",
        "D=np.matmul(A,B)\n",
        "print(\"Multiplication after using built-in function\")\n",
        "print(D)\n"
      ],
      "execution_count": 3,
      "outputs": [
        {
          "output_type": "stream",
          "text": [
            "1\n",
            "2\n",
            "3\n",
            "The matrices are:\n",
            "[[3 4]]\n",
            "[[9 0 7]\n",
            " [2 6 3]]\n",
            "Multiplication without using built-in function:\n",
            "[[35. 24. 33.]]\n",
            "Multiplication after using built-in function\n",
            "[[35 24 33]]\n"
          ],
          "name": "stdout"
        }
      ]
    },
    {
      "cell_type": "markdown",
      "metadata": {
        "id": "QzPo-gqZ2u6t"
      },
      "source": [
        "#Question10"
      ]
    },
    {
      "cell_type": "code",
      "metadata": {
        "id": "Mog0oDW82P3K"
      },
      "source": [
        "import csv\n",
        "from numpy import random\n",
        "data=random.randint(0,100,(10,100))\n",
        "print(data)\n",
        "file=open('new.csv','w+',newline='')\n",
        "with file:\n",
        "    write=csv.writer(file)\n",
        "    write.writerow(data)"
      ],
      "execution_count": null,
      "outputs": []
    },
    {
      "cell_type": "markdown",
      "metadata": {
        "id": "T9x9U-_l283W"
      },
      "source": [
        "#Question12"
      ]
    },
    {
      "cell_type": "code",
      "metadata": {
        "id": "sdDUlqQ4239b",
        "outputId": "97614f83-2d36-4626-d0f3-3b239e9bdd3e",
        "colab": {
          "base_uri": "https://localhost:8080/",
          "height": 255
        }
      },
      "source": [
        "from numpy import *\n",
        "class Complex():\n",
        "    def initcomplex(self):\n",
        "        self.real=int(input(\"Enter the real part : \"))\n",
        "        self.imag=int(input(\"Enter the imaginary part : \"))\n",
        "    def display(self):\n",
        "        print(self.real,\"+\",self.imag,\"i\")\n",
        "    def sum(self,c1,c2):\n",
        "        self.real=c1.real+c2.real\n",
        "        self.imag=c1.imag+c2.imag\n",
        "    def multiply(self,c1,c2):\n",
        "        self.real=(c1.real)*(c2.real)-(c1.imag)*(c2.imag)\n",
        "        self.imag=(c1.real)*(c2.imag)+(c1.imag)*(c2.real)\n",
        "    def sub(self,c1,c2):\n",
        "        self.real=c1.real-c2.real\n",
        "        self.imag=c1.imag-c2.imag\n",
        "c1=Complex()\n",
        "c2=Complex()\n",
        "c3=Complex()\n",
        "c1.initcomplex()\n",
        "print(\"First complex number : \")\n",
        "c1.display()\n",
        "c2.initcomplex()\n",
        "print(\"Second complex number : \")\n",
        "c2.display()\n",
        "c3.sum(c1,c2)\n",
        "print(\"Sum : \")\n",
        "c3.display()\n",
        "c3.multiply(c1,c2)\n",
        "print(\"Product : \")\n",
        "c3.display()\n",
        "c3.sub(c1,c2)\n",
        "print(\"Subtraction : \")\n",
        "c3.display()"
      ],
      "execution_count": 17,
      "outputs": [
        {
          "output_type": "stream",
          "text": [
            "Enter the real part : 1\n",
            "Enter the imaginary part : 2\n",
            "First complex number : \n",
            "1 + 2 i\n",
            "Enter the real part : 3\n",
            "Enter the imaginary part : 4\n",
            "Second complex number : \n",
            "3 + 4 i\n",
            "Sum : \n",
            "4 + 6 i\n",
            "Product : \n",
            "-5 + 10 i\n",
            "Subtraction : \n",
            "-2 + -2 i\n"
          ],
          "name": "stdout"
        }
      ]
    },
    {
      "cell_type": "markdown",
      "metadata": {
        "id": "IHL7noAD3Ay2"
      },
      "source": [
        "#Question13"
      ]
    },
    {
      "cell_type": "code",
      "metadata": {
        "id": "wkIcSW383CfQ",
        "outputId": "c1433a81-ebfe-4043-911e-e7934cea7583",
        "colab": {
          "base_uri": "https://localhost:8080/",
          "height": 265
        }
      },
      "source": [
        "import matplotlib.pyplot as plt\n",
        "import numpy as np\n",
        "x=np.arange(-10,10,0.01)\n",
        "y=3*x+2\n",
        "plt.plot(x,y)\n",
        "plt.show()"
      ],
      "execution_count": 8,
      "outputs": [
        {
          "output_type": "display_data",
          "data": {
            "image/png": "[encoded data removed]",
            "text/plain": [
              "<Figure size 432x288 with 1 Axes>"
            ]
          },
          "metadata": {
            "tags": [],
            "needs_background": "light"
          }
        }
      ]
    },
    {
      "cell_type": "code",
      "metadata": {
        "id": "m-0p4FEk3PRu"
      },
      "source": [
        ""
      ],
      "execution_count": null,
      "outputs": []
    }
  ]
}