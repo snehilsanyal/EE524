{
 "cells": [
  {
   "cell_type": "code",
   "execution_count": 2,
   "metadata": {},
   "outputs": [
    {
     "name": "stdout",
     "output_type": "stream",
     "text": [
      "Hello World!\n"
     ]
    }
   ],
   "source": [
    "print('Hello World!')"
   ]
  },
  {
   "cell_type": "code",
   "execution_count": 5,
   "metadata": {},
   "outputs": [
    {
     "name": "stdout",
     "output_type": "stream",
     "text": [
      "Enter first number:5\n",
      "Enter second number:10\n",
      "15\n",
      "-5\n",
      "50\n",
      "0.5\n",
      "5\n"
     ]
    }
   ],
   "source": [
    "a=int(input(\"Enter first number:\"))\n",
    "b=int(input(\"Enter second number:\"))\n",
    "c= a+b\n",
    "d=a-b\n",
    "e=a*b\n",
    "f=a/b\n",
    "g=a%b\n",
    "print(c)\n",
    "print(d)\n",
    "print(e)\n",
    "print(f)\n",
    "print(g)\n"
   ]
  },
  {
   "cell_type": "code",
   "execution_count": 6,
   "metadata": {},
   "outputs": [
    {
     "name": "stdout",
     "output_type": "stream",
     "text": [
      "Enter a number:8\n",
      "Factorial of 8 is 40320\n"
     ]
    }
   ],
   "source": [
    "num=int(input(\"Enter a number:\"))\n",
    "a=0!=1\n",
    "count=1\n",
    "while count<=num :\n",
    "    Fact=count*a\n",
    "    count=count+1\n",
    "    a=Fact\n",
    "print(f\"Factorial of {num} is {a}\")"
   ]
  },
  {
   "cell_type": "code",
   "execution_count": 7,
   "metadata": {},
   "outputs": [
    {
     "name": "stdout",
     "output_type": "stream",
     "text": [
      "Enter first number:1\n",
      "Enter second number:40\n",
      "1\n",
      "2\n",
      "3\n",
      "5\n",
      "7\n",
      "11\n",
      "13\n",
      "17\n",
      "19\n",
      "23\n",
      "29\n",
      "31\n",
      "37\n"
     ]
    }
   ],
   "source": [
    "a=int(input(\"Enter first number:\"))\n",
    "b=int(input(\"Enter second number:\"))\n",
    "count=a\n",
    "while count<=b :\n",
    "    flag=1\n",
    "    for i in range(2,count ):\n",
    "        if count%i == 0 :\n",
    "            flag = 0\n",
    "            break      \n",
    "    if flag:\n",
    "        print(count)\n",
    "    \n",
    "    count=count+1"
   ]
  },
  {
   "cell_type": "code",
   "execution_count": 8,
   "metadata": {},
   "outputs": [
    {
     "name": "stdout",
     "output_type": "stream",
     "text": [
      "Enter first number:6\n",
      "Enter second number:9\n",
      "LCM is 18\n"
     ]
    }
   ],
   "source": [
    "a=int(input(\"Enter first number:\"))\n",
    "b=int(input(\"Enter second number:\"))\n",
    "def hcf(num1,num2):\n",
    "    if num1<num2 :\n",
    "        small=num1\n",
    "    else:\n",
    "        small=num2\n",
    "    for i in range(2,small+1) :\n",
    "        if (num1%i==0) and (num2%i==0):\n",
    "            HCF = i \n",
    "    return HCF        \n",
    "if a%b == 0 :\n",
    "    print(f\"LCM is {a}\")\n",
    "elif b%a == 0 :\n",
    "    print(f\"LCM is {b}\")\n",
    "else :\n",
    "    c =int( (a*b) / hcf(a,b))\n",
    "    print(f\"LCM is {c}\")"
   ]
  },
  {
   "cell_type": "code",
   "execution_count": 9,
   "metadata": {},
   "outputs": [
    {
     "name": "stdout",
     "output_type": "stream",
     "text": [
      "Enter the number :1\n",
      "Enter the number :22\n",
      "Enter the number :33\n",
      "Enter the number :44\n",
      "Enter the number :98\n",
      "Enter the number :87\n",
      "Enter the number :76\n",
      "Enter the number :65\n",
      "Enter the number :54\n",
      "Enter the number :43\n",
      "Enter the number :32\n",
      "Enter the number :21\n",
      "Enter the number :11\n",
      "Enter the number :19\n",
      "Enter the number :6\n",
      "Element Indices\n",
      "98   4\n",
      "87   5\n",
      "76   6\n",
      "65   7\n",
      "54   8\n",
      "44   3\n",
      "43   9\n",
      "33   2\n",
      "32   10\n",
      "22   1\n",
      "21   11\n",
      "19   13\n",
      "11   12\n",
      "6   14\n",
      "1   0\n"
     ]
    }
   ],
   "source": [
    "L=list()\n",
    "ind = dict()\n",
    "le = 15 \n",
    "for i in range(le) :\n",
    "    num = input(\"Enter the number :\") \n",
    "    L.append(int(num)) \n",
    "    ind[int(num)] = i\n",
    "for i in range(le-1): \n",
    "    flag = 0 \n",
    "    for j in range(le-i-1): \n",
    "        if L[j] < L[j+1] : \n",
    "            temp = L[j] \n",
    "            L[j] = L[j+1] \n",
    "            L[j+1] = temp \n",
    "            flag = 1\n",
    "    if flag ==0:\n",
    "        break\n",
    "print(\"Element\" , \"Indices\")\n",
    "for i in range(le): \n",
    "    print(L[i] , \" \", ind[L[i]] )"
   ]
  },
  {
   "cell_type": "code",
   "execution_count": 11,
   "metadata": {},
   "outputs": [
    {
     "name": "stdout",
     "output_type": "stream",
     "text": [
      "Enter the number :1\n",
      "Enter the number :2\n",
      "Enter the number :34\n",
      "Enter the number :45\n",
      "Enter the number :98\n",
      "Enter the number :87\n",
      "Enter the number :44\n",
      "Enter the number :55\n",
      "Enter the number :66\n",
      "Enter the number :12\n",
      "Enter the number :15\n",
      "Enter the number :11\n",
      "Enter the number :10\n",
      "Enter the number :8\n",
      "Enter the number :7\n",
      "Element Indices\n",
      "1.0      0\n",
      "2.0      1\n",
      "7.0      14\n",
      "8.0      13\n",
      "10.0      12\n",
      "11.0      11\n",
      "12.0      9\n",
      "15.0      10\n",
      "34.0      2\n",
      "44.0      6\n",
      "45.0      3\n",
      "55.0      7\n",
      "66.0      8\n",
      "87.0      5\n",
      "98.0      4\n"
     ]
    }
   ],
   "source": [
    "import numpy as np\n",
    "arr = np.array([])\n",
    "ind = dict()\n",
    "le = 15\n",
    "for i in range(le):\n",
    "    num = input(\"Enter the number :\")\n",
    "    arr = np.append(arr,int(num))\n",
    "    ind[int(num)] = i\n",
    "    \n",
    "for i in range(le-1):\n",
    "    flag = 0\n",
    "    for j in range(le-i-1):\n",
    "        if arr[j] > arr[j+1] :\n",
    "            temp = arr[j]\n",
    "            arr[j] = arr[j+1]\n",
    "            arr[j+1] = temp\n",
    "            flag = 1\n",
    "            \n",
    "    if flag ==0:\n",
    "        break\n",
    "        \n",
    "print(\"Element\" , \"Indices\")\n",
    "\n",
    "for i in range(le):\n",
    "    print(arr[i] , \"    \", ind[arr[i]] )\n",
    "\n"
   ]
  },
  {
   "cell_type": "code",
   "execution_count": 12,
   "metadata": {},
   "outputs": [
    {
     "name": "stdout",
     "output_type": "stream",
     "text": [
      "Enter rows of a matrix:2\n",
      "Enter columns of a matrix:5\n",
      "[[ 1  2  3  0  3]\n",
      " [ 4 -2 -2  3  0]]\n"
     ]
    }
   ],
   "source": [
    "import numpy as np\n",
    "m=int(input(\"Enter rows of a matrix:\"))\n",
    "n=int(input(\"Enter columns of a matrix:\"))\n",
    "mat = np.random.randint(-2,5,size=(m,n))\n",
    "print(mat)\n"
   ]
  },
  {
   "cell_type": "code",
   "execution_count": 14,
   "metadata": {},
   "outputs": [
    {
     "name": "stdout",
     "output_type": "stream",
     "text": [
      "Enter rows of first matrix:2\n",
      "Enter columns of first matrix :2\n",
      "Enter columns of second matrix:2\n",
      "Enter the elements:1\n",
      "Enter the elements:2\n",
      "Enter the elements:3\n",
      "Enter the elements:4\n",
      "[[1 2]\n",
      " [3 4]]\n",
      "Enter the elements:1\n",
      "Enter the elements:2\n",
      "Enter the elements:3\n",
      "Enter the elements:4\n",
      "[[1 2]\n",
      " [3 4]]\n",
      "Matrix Multiplication is: [[ 7 10]\n",
      " [15 22]]\n"
     ]
    }
   ],
   "source": [
    "import numpy as np\n",
    "m=int(input(\"Enter rows of first matrix:\"))\n",
    "n=int(input(\"Enter columns of first matrix :\"))\n",
    "p=int(input(\"Enter columns of second matrix:\"))\n",
    "mat1 = np.zeros ((m,n) ,dtype=int)\n",
    "mat2 = np.zeros ((n,p) ,dtype=int)\n",
    "result = np.zeros ((m,p) ,dtype=int)\n",
    "for i in range(m):\n",
    "    for j in range(n):\n",
    "        mat1[i][j]= int(input(\"Enter the elements:\"))\n",
    "print (mat1)\n",
    "for i in range(n):\n",
    "    for j in range(p):\n",
    "        mat2[i][j]= int(input(\"Enter the elements:\"))\n",
    "print (mat2)\n",
    "\n",
    "for i in range(m):\n",
    "    for j in range(len(mat2)):\n",
    "        for k in range(p):\n",
    "            result[i][j] = result[i][j] + mat1[i][k] * mat2[k][j]\n",
    "print(\"Matrix Multiplication is:\" , result)"
   ]
  },
  {
   "cell_type": "code",
   "execution_count": 15,
   "metadata": {},
   "outputs": [
    {
     "data": {
      "image/png": "[encoded data removed]",
      "text/plain": [
       "<Figure size 432x288 with 1 Axes>"
      ]
     },
     "metadata": {
      "needs_background": "light"
     },
     "output_type": "display_data"
    }
   ],
   "source": [
    "import matplotlib.pyplot as plt\n",
    "import numpy as np\n",
    "x = np.arange(-10,10,0.2)\n",
    "y = 3*x + 2\n",
    "plt.plot(x,y,'g')\n",
    "plt.xlabel(\"X AXIS\")\n",
    "plt.ylabel(\"Y AXIS\")\n",
    "plt.show()"
   ]
  },
  {
   "cell_type": "code",
   "execution_count": 16,
   "metadata": {},
   "outputs": [
    {
     "name": "stdout",
     "output_type": "stream",
     "text": [
      "(6+4j)\n",
      "(-2+2j)\n"
     ]
    }
   ],
   "source": [
    "class Complex(object):\n",
    "    \n",
    "    def __init__(self, real,imag = 0.0):\n",
    "        self.real = real\n",
    "        self.imag = imag\n",
    "        print(self.real+self.imag)\n",
    "        \n",
    "    def _abs_(self):\n",
    "        \n",
    "        print(\"\\nAbsolute\")\n",
    "        return Complex(sqrt(self.real**2 + self.imag**2))\n",
    "        \n",
    "         \n",
    "    \n",
    "\n",
    "    def _add_ (self, other):\n",
    "        \n",
    "        print(\"\\nSUM\")\n",
    "        return Complex(self.real + other.real,\n",
    "                       self.imag + other.imag)\n",
    "\n",
    "    def __sub__(self, other):\n",
    "        \n",
    "        print(\"\\nSUBTRACTION\")\n",
    "        return Complex(self.real - other.real,\n",
    "                       self.imag - other.imag)\n",
    "\n",
    "    def __mul__(self, other):\n",
    "        \n",
    "        print(\"\\nMULTIPLICATION\")\n",
    "        return Complex(self.real*other.real - self.imag*other.imag,\n",
    "                       self.imag*other.real + self.real*other.imag)\n",
    "     \n",
    "    def __div__(x1, x2):\n",
    "        \n",
    "        r = float(x2.real**2 + x2.imag**2)\n",
    "        return Complex((x1.real*x2.imag+x1.imag*x2.imag)/r, (x1.imag*x2.real-x1.real*x2.imag)/r)\n",
    "        \n",
    "    \n",
    "    \n",
    "    def _ang_(x1):\n",
    "        \n",
    "        list = [x1.real, x1.imag ,x1.real + x1.imag]\n",
    "        return Complex (np.angle(list))\n",
    "        \n",
    "    \n",
    "    \n",
    "c1 = complex(2,3)\n",
    "c2 = complex(4,1)\n",
    "print (c1 + c2)\n",
    "print (c1 - c2)\n"
   ]
  },
  {
   "cell_type": "code",
   "execution_count": 17,
   "metadata": {},
   "outputs": [
    {
     "name": "stdout",
     "output_type": "stream",
     "text": [
      "[5.373351901985868, 37.764676671201585, 25.909203789755736, 15.47275934324834, 19.958968334038268, 19.393152447945898, 8.631293226984484, 5.50486527465166, 3.8018147477099458, 21.03846935510829, 40.3140222253679, 14.87343037341261, 31.069859122749055, 11.013524309731281, 27.753456904143896, 38.093601351269754, 15.720583956219341, 2.2597184443952862, 35.491669159335395, 6.975304621997466, 32.881245982759424, 34.747122464517545, 13.315924139926555, 33.720619148036974, 6.798253699016632, 27.971207384533614, 37.501809114736545, 3.5313326732249797, 15.91733304819348, 7.885213687443832, 14.013926845906056, 34.89794449499038, 18.6156228879136, 29.679181199889484, 25.643237203661677, 6.652437824997254, 30.990493779144327, 10.793198778534084, 2.9024658347707977, 27.93246853264211, 14.428349446418498, 38.35295528999634, 24.360420044700497, 25.19497870255624, 38.98291401991743, 17.46878305449655, 15.737228259412197, 32.76482042045721, 15.201538232316985, 28.967966136745172, 35.494465122526094, 30.030461658649493, 29.947889274907297, 29.735395485543386, 33.74516899913557, 25.68703969516071, 27.37350385991358, 30.346255625566634, 35.94881350455697, 24.334497996053745, 6.333806942139102, 17.933620997897155, 4.629195332799901, 19.367527624222603, 16.544338571644616, 31.759259233352086, 31.154832019265843, 19.563496868110025, 22.12622061111494, 24.271203626864718, 8.548073669460463, 23.72919629061095, 2.2612178166806594, 4.921372071109824, 21.85559169208074, 25.866334243168673, 15.106851162552264, 16.81190083811296, 27.140589843205007, 3.1519692437027897, 34.76539514259514, 28.86761124192654, 11.82340936287876, 37.93487673684022, 4.45959779042723, 4.4093767028765765, 3.8461658385566637, 7.867410073475058, 16.176634161831917, 30.290832617738495, 23.995265405021385, 3.3495149716322254, 12.774578121952473, 12.898615153712887, 23.9955796815692, 3.6091457024664146, 33.20058290522293, 22.531441179083917, 38.48242210901081, 26.675148691677624, 40.41512670764191]\n"
     ]
    }
   ],
   "source": [
    "import csv\n",
    "import random\n",
    "\n",
    "randomlist = []\n",
    "for i in range(0,101):\n",
    "    n=random.uniform(2,40.5)\n",
    "    randomlist.append(n)\n",
    "    \n",
    "print(randomlist)\n"
   ]
  },
  {
   "cell_type": "code",
   "execution_count": null,
   "metadata": {},
   "outputs": [],
   "source": []
  }
 ],
 "metadata": {
  "kernelspec": {
   "display_name": "Python 3",
   "language": "python",
   "name": "python3"
  },
  "language_info": {
   "codemirror_mode": {
    "name": "ipython",
    "version": 3
   },
   "file_extension": ".py",
   "mimetype": "text/x-python",
   "name": "python",
   "nbconvert_exporter": "python",
   "pygments_lexer": "ipython3",
   "version": "3.8.3"
  }
 },
 "nbformat": 4,
 "nbformat_minor": 4
}
