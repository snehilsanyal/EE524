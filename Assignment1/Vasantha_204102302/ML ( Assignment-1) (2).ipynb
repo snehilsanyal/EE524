{
 "cells": [
  {
   "cell_type": "markdown",
   "metadata": {},
   "source": [
    "# 1.Print hello world"
   ]
  },
  {
   "cell_type": "code",
   "execution_count": 1,
   "metadata": {},
   "outputs": [
    {
     "name": "stdout",
     "output_type": "stream",
     "text": [
      "Hello World!\n"
     ]
    }
   ],
   "source": [
    "print('Hello World!')\n"
   ]
  },
  {
   "cell_type": "markdown",
   "metadata": {},
   "source": [
    "# 2.Algebraic expressions"
   ]
  },
  {
   "cell_type": "code",
   "execution_count": 2,
   "metadata": {},
   "outputs": [
    {
     "name": "stdout",
     "output_type": "stream",
     "text": [
      "enter the value of a =5\n",
      "enter the value of b =10\n",
      "c=a+b= 15\n",
      "d=a-b= -5\n",
      "e=a*b= 50\n",
      "f=a/b= 0.5\n",
      "g=a%b= 5\n"
     ]
    }
   ],
   "source": [
    "a=int(input('enter the value of a ='))\n",
    "b=int(input('enter the value of b ='))\n",
    "c=a+b\n",
    "d=a-b\n",
    "e=a*b\n",
    "f=a/b\n",
    "g=a%b\n",
    "print('c=a+b=',c)\n",
    "print('d=a-b=',d)\n",
    "print('e=a*b=',e)\n",
    "print('f=a/b=',f)\n",
    "print('g=a%b=',g)\n"
   ]
  },
  {
   "cell_type": "markdown",
   "metadata": {},
   "source": [
    "# 3.Factorial of a number"
   ]
  },
  {
   "cell_type": "code",
   "execution_count": 3,
   "metadata": {},
   "outputs": [
    {
     "name": "stdout",
     "output_type": "stream",
     "text": [
      "enter the value of x=5\n",
      "factorial of a number is = 120\n"
     ]
    }
   ],
   "source": [
    "num=1\n",
    "x=int(input('enter the value of x='))\n",
    "while x<x+1:       \n",
    "    num=num*x\n",
    "    x-=1\n",
    "    if x==0:\n",
    "         break\n",
    "print('factorial of a number is =',num)"
   ]
  },
  {
   "cell_type": "markdown",
   "metadata": {},
   "source": [
    "# 4.Prime numbers"
   ]
  },
  {
   "cell_type": "code",
   "execution_count": 4,
   "metadata": {},
   "outputs": [
    {
     "data": {
      "text/plain": [
       "[3, 5, 7, 11, 13, 17, 19, 23, 29]"
      ]
     },
     "execution_count": 4,
     "metadata": {},
     "output_type": "execute_result"
    }
   ],
   "source": [
    "list=[]\n",
    "def prime(a,b):\n",
    "    for i in range(a,b+1):\n",
    "        if i>1:\n",
    "            for j in range(2,i):\n",
    "                if i % j == 0:\n",
    "                    break\n",
    "            else:\n",
    "                    list.append(i)\n",
    "    return list\n",
    "prime(3,30)"
   ]
  },
  {
   "cell_type": "markdown",
   "metadata": {},
   "source": [
    "# 5.Lcm of two numbers"
   ]
  },
  {
   "cell_type": "code",
   "execution_count": 5,
   "metadata": {},
   "outputs": [
    {
     "name": "stdout",
     "output_type": "stream",
     "text": [
      "The Lcm of x and y is= 12\n"
     ]
    }
   ],
   "source": [
    "def compute_Lcm(x, y):\n",
    "    if x > y:\n",
    "        greater = x\n",
    "    else:\n",
    "        greater = y\n",
    "\n",
    "    while(True):\n",
    "        if((greater % x == 0) and (greater % y == 0)):\n",
    "            Lcm = greater\n",
    "            break\n",
    "        greater += 1\n",
    "    print('The Lcm of x and y is=',Lcm)\n",
    "compute_Lcm(12,6)"
   ]
  },
  {
   "cell_type": "markdown",
   "metadata": {},
   "source": [
    "# 6.Bubblesort algorithm(descending order)"
   ]
  },
  {
   "cell_type": "code",
   "execution_count": 6,
   "metadata": {},
   "outputs": [
    {
     "data": {
      "text/plain": [
       "[66, 54, 35, 33, 23, 16, 12, 11, 9, 8, 6, 5, 3, 2, 1]"
      ]
     },
     "execution_count": 6,
     "metadata": {},
     "output_type": "execute_result"
    }
   ],
   "source": [
    "def bubble(arr):\n",
    "    n=len(arr)\n",
    "    for i in range(n-1):\n",
    "        for j in range(0,n-i-1):\n",
    "            if arr[j]<arr[j+1]:\n",
    "                arr[j],arr[j+1]=arr[j+1],arr[j]\n",
    "    return arr\n",
    "bubble([3,1,5,2,6,8,9,12,11,33,23,54,66,16,35])\n",
    "    "
   ]
  },
  {
   "cell_type": "markdown",
   "metadata": {},
   "source": [
    "# 7.Ascending order"
   ]
  },
  {
   "cell_type": "code",
   "execution_count": 7,
   "metadata": {},
   "outputs": [
    {
     "name": "stdout",
     "output_type": "stream",
     "text": [
      "[ 1  2  3  5  6  8  9 11 12 16 23 33 35 54 66]\n"
     ]
    }
   ],
   "source": [
    "import numpy as np \n",
    "bubble=np.array([3,1,5,2,6,8,9,12,11,33,23,54,66,16,35])\n",
    "bubble[::1].sort()\n",
    "print(bubble)"
   ]
  },
  {
   "cell_type": "markdown",
   "metadata": {},
   "source": [
    "# 8.Print matrix in range (-2,5)"
   ]
  },
  {
   "cell_type": "code",
   "execution_count": 8,
   "metadata": {},
   "outputs": [
    {
     "name": "stdout",
     "output_type": "stream",
     "text": [
      "enter rows=3\n",
      "enter columns=3\n",
      "[[ 1 -2  1]\n",
      " [ 4 -2  0]\n",
      " [ 0  1  1]]\n"
     ]
    }
   ],
   "source": [
    "import numpy as np\n",
    "m= int(input('enter rows='))\n",
    "n= int(input('enter columns='))\n",
    "a=np.random.randint(-2,5,size=(m,n))\n",
    "print(a)"
   ]
  },
  {
   "cell_type": "markdown",
   "metadata": {},
   "source": [
    "# 9.Multiply two matrices"
   ]
  },
  {
   "cell_type": "code",
   "execution_count": 9,
   "metadata": {},
   "outputs": [
    {
     "name": "stdout",
     "output_type": "stream",
     "text": [
      "enter number  [0] [0]1\n",
      "enter number  [0] [1]2\n",
      "enter number  [0] [2]3\n",
      "enter number  [1] [0]4\n",
      "enter number  [1] [1]5\n",
      "enter number  [1] [2]6\n",
      "enter number  [2] [0]7\n",
      "enter number  [2] [1]8\n",
      "enter number  [2] [2]9\n",
      "enter number  [0] [0]1\n",
      "enter number  [0] [1]2\n",
      "enter number  [0] [2]3\n",
      "enter number  [1] [0]4\n",
      "enter number  [1] [1]5\n",
      "enter number  [1] [2]6\n",
      "enter number  [2] [0]7\n",
      "enter number  [2] [1]8\n",
      "enter number  [2] [2]9\n",
      "first matrix is =\n",
      "1 2 3 \n",
      "4 5 6 \n",
      "7 8 9 \n",
      "second matrix is =\n",
      "1 2 3 \n",
      "4 5 6 \n",
      "7 8 9 \n",
      "multiplication of two matrices is = \n",
      "30 36 42 \n",
      "66 81 96 \n",
      "102 126 150 \n"
     ]
    }
   ],
   "source": [
    "m = []\n",
    "for i in range(3):\n",
    "    a = []\n",
    "    for j in range(3):\n",
    "        j = int(input(\"enter number  [\"+str(i)+\"] [\"+str(j)+\"]\"))\n",
    "        a.append(j)\n",
    "    m.append(a)\n",
    "n = []\n",
    "for i in range(3):\n",
    "    b = []\n",
    "    for j in range(3):\n",
    "        j =  int(input(\"enter number  [\"+str(i)+\"] [\"+str(j)+\"]\"))\n",
    "        b.append(j)\n",
    "    n.append(b)\n",
    "print(\"first matrix is =\")\n",
    "for i in range (3):\n",
    "    for j in range(3):\n",
    "        print(m[i][j],end=\" \")\n",
    "    print()\n",
    "print(\"second matrix is =\")\n",
    "for i in range (3):\n",
    "    for j in range(3):\n",
    "        print(m[i][j],end=\" \")\n",
    "    print()\n",
    "result = [[0,0,0],[0,0,0],[0,0,0]]\n",
    "for i in range(3):\n",
    "    for j in range(3):\n",
    "        for k in range(3):\n",
    "            result[i][j] = result[i][j] + m[i][k]*n[k][j]\n",
    "print(\"multiplication of two matrices is = \")\n",
    "for i in range(3):\n",
    "    for j in range(3):\n",
    "        print(result[i][j],end = \" \")\n",
    "    print()"
   ]
  },
  {
   "cell_type": "markdown",
   "metadata": {},
   "source": [
    "# 10.Write file operations"
   ]
  },
  {
   "cell_type": "code",
   "execution_count": 10,
   "metadata": {},
   "outputs": [
    {
     "name": "stdout",
     "output_type": "stream",
     "text": [
      "[305 980 385 126 554 527 444 369 560 119 885 713 406 154 671 611 439 566\n",
      " 304 939 348 528 738  93 442 682 688 847 644 155  16 175 416  91 251 939\n",
      " 328 102 923 995 967 226 154 524 609 897 875 238  32 540 587 675 122 730\n",
      " 774 858 890 670 185 403 762 793  34 610 188 932  65 185 304 232 917 202\n",
      " 614 744 138 539  99 229 947 708 583 213 917 446  86 952 611 467 152  73\n",
      " 856 814 195 801 645 469 282 595 999 372]\n"
     ]
    }
   ],
   "source": [
    "import csv\n",
    "from numpy import random \n",
    "import numpy as np\n",
    "n = random.randint(1000,size=(100))\n",
    "print(n)\n",
    "file=\"File.csv\"\n",
    "with open(file, 'w') as csvfile:\n",
    "    csvwriter = csv.writer(csvfile)\n",
    "    csvwriter.writerow(['Num'])\n",
    "    csvwriter.writerow(n)"
   ]
  },
  {
   "cell_type": "markdown",
   "metadata": {},
   "source": [
    "# 11. Read file operations"
   ]
  },
  {
   "cell_type": "code",
   "execution_count": 11,
   "metadata": {},
   "outputs": [],
   "source": [
    "import csv\n",
    "import numpy\n",
    "reader=[]\n",
    "csv.reader(open(\"Random.csv\",\"rb\"),delimiter=\",\")\n",
    "x = reader\n",
    "result = numpy.array(x).astype(\"float\")"
   ]
  },
  {
   "cell_type": "markdown",
   "metadata": {},
   "source": [
    "# 12.Complex number"
   ]
  },
  {
   "cell_type": "code",
   "execution_count": 12,
   "metadata": {},
   "outputs": [
    {
     "name": "stdout",
     "output_type": "stream",
     "text": [
      "c1 = (5+6j)\n",
      "c2 = (7+8j)\n",
      "addition = (12+14j)\n",
      "subraction = (-2-2j)\n",
      "multiplication = (-13+82j)\n",
      "division = (0.7345132743362832+0.017699115044247787j)\n",
      "absolute value c1 = 7.810249675906654\n",
      "absolute value c2 = 10.63014581273465\n",
      "phase c1 = 0.8760580505981934\n",
      "phase c2 = 0.8519663271732721\n",
      "conj c1 = (5-6j)\n",
      "conj c2 = (7-8j)\n"
     ]
    }
   ],
   "source": [
    "import cmath\n",
    "from math import sqrt\n",
    "\n",
    "class Complex(object):\n",
    "\n",
    "    def __init__(self, real, imag):\n",
    "        self.real = real\n",
    "        self.imag = imag\n",
    "        \n",
    "    def __add__(self, other):\n",
    "        return Complex(self.real + other.real, self.imag + other.imag)\n",
    "\n",
    "    def __sub__(self, other):\n",
    "        return Complex(self.real - other.real, self.imag - other.imag)\n",
    "    \n",
    "    def __mul__(self, other):\n",
    "        return Complex((self.real * other.real) - (self.imag * other.imag),\n",
    "            (self.imag * other.real) + (self.real * other.imag))\n",
    "\n",
    "    def __div__(self, other):\n",
    "        r = (other.real**2 + other.imag**2)\n",
    "        return Complex((self.real*other.real - self.imag*other.imag)/r,\n",
    "            (self.imag*other.real + self.real*other.imag)/r)\n",
    "\n",
    "    def __abs__(self):\n",
    "        return ((self.real**2) + (self.imag**2))**0.5\n",
    "    \n",
    "    def __conjugate__(self):\n",
    "        return complex(self.real,-self.imag)\n",
    "    def __phase__(self):\n",
    "        return cmath.phase(self)\n",
    "    \n",
    "    \n",
    "c1=complex(5,6)\n",
    "c2=complex(7,8)\n",
    "print('c1 =',c1)\n",
    "print('c2 =',c2)\n",
    "addition=c1+c2\n",
    "print('addition =',addition)\n",
    "subraction=c1-c2\n",
    "print('subraction =',subraction)\n",
    "multiplication=c1*c2\n",
    "print('multiplication =',multiplication)\n",
    "division=c1/c2\n",
    "print('division =',division)\n",
    "absolute_value =(c1.real**2+c1.imag**2)**0.5\n",
    "print('absolute value c1 =',absolute_value)\n",
    "absolute_value =(c2.real**2+c2.imag**2)**0.5\n",
    "print('absolute value c2 =',absolute_value)\n",
    "phase =cmath.phase(c1)\n",
    "print('phase c1 =',phase )\n",
    "phase =cmath.phase(c2)\n",
    "print('phase c2 =',phase )\n",
    "conjugate=complex(c1.real,-c1.imag)\n",
    "print('conj c1 =',conjugate)\n",
    "conjugate=complex(c2.real,-c2.imag)\n",
    "print('conj c2 =',conjugate)\n",
    "\n",
    "\n",
    "\n"
   ]
  },
  {
   "cell_type": "markdown",
   "metadata": {},
   "source": [
    "# 13.Plot the function"
   ]
  },
  {
   "cell_type": "code",
   "execution_count": 13,
   "metadata": {},
   "outputs": [
    {
     "data": {
      "image/png": "[encoded data removed]",
      "text/plain": [
       "<Figure size 432x288 with 1 Axes>"
      ]
     },
     "metadata": {
      "needs_background": "light"
     },
     "output_type": "display_data"
    }
   ],
   "source": [
    "import matplotlib.pyplot as plt\n",
    "import numpy as np\n",
    "x = np.arange(-10,10)\n",
    "y = 3*x+2\n",
    "plt.xlim(-10,10)\n",
    "plt.plot(x, y,label='y=3x+2',c='r')\n",
    "plt.title('Graph of y=2x+1')\n",
    "plt.xlabel('X-AXIS', c='b')\n",
    "plt.ylabel('Y-AXIS', c='b')\n",
    "plt.legend()\n",
    "plt.show()"
   ]
  }
 ],
 "metadata": {
  "kernelspec": {
   "display_name": "Python 3",
   "language": "python",
   "name": "python3"
  },
  "language_info": {
   "codemirror_mode": {
    "name": "ipython",
    "version": 3
   },
   "file_extension": ".py",
   "mimetype": "text/x-python",
   "name": "python",
   "nbconvert_exporter": "python",
   "pygments_lexer": "ipython3",
   "version": "3.8.3"
  }
 },
 "nbformat": 4,
 "nbformat_minor": 4
}
