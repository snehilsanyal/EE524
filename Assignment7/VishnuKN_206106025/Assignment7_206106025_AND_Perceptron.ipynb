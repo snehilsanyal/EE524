{
 "cells": [
  {
   "cell_type": "markdown",
   "metadata": {},
   "source": [
    "# Assignment 7 : Training a Perceptron to learn boolean functions "
   ]
  },
  {
   "cell_type": "code",
   "execution_count": 1,
   "metadata": {},
   "outputs": [],
   "source": [
    "##Q3 : train a linear perceptron for AND gate"
   ]
  },
  {
   "cell_type": "code",
   "execution_count": 2,
   "metadata": {},
   "outputs": [],
   "source": [
    "import numpy as np"
   ]
  },
  {
   "cell_type": "code",
   "execution_count": 3,
   "metadata": {},
   "outputs": [],
   "source": [
    "## Q3 : Boolean function learning\n",
    "## the activation function for and AND gate       \n",
    "def predict(inputs,weights):\n",
    "    summation = np.dot(inputs, weights[1:]) + weights[0]\n",
    "    if summation > 2:\n",
    "      activation = 1\n",
    "    else:\n",
    "      activation = 0            \n",
    "    return activation"
   ]
  },
  {
   "cell_type": "code",
   "execution_count": 4,
   "metadata": {},
   "outputs": [],
   "source": [
    "## function that lears the parameters of ANN using the given AND gate\n",
    "def train(training_inputs, labels):\n",
    "    for _ in range(threshold):\n",
    "        for inputs, label in zip(training_inputs, labels):\n",
    "            prediction = predict(inputs,weights)\n",
    "            weights[1:] += learning_rate * (label - prediction) * inputs\n",
    "            weights[0] += learning_rate * (label - prediction)\n",
    "            \n",
    "    return weights"
   ]
  },
  {
   "cell_type": "code",
   "execution_count": 5,
   "metadata": {},
   "outputs": [],
   "source": [
    "## Initializing the ANN\n",
    "no_of_inputs=2\n",
    "threshold = 100#threshold\n",
    "learning_rate = .01#learning_rate\n",
    "weights = np.zeros(no_of_inputs + 1)"
   ]
  },
  {
   "cell_type": "code",
   "execution_count": 6,
   "metadata": {},
   "outputs": [],
   "source": [
    "## The AND gate \n",
    "## input\n",
    "traindata=np.array([[0,0],[0,1],[1,0],[1,1]])\n",
    "traindata=traindata.tolist()\n",
    "## Labels \n",
    "## output \n",
    "labels=np.array([[0],[0],[0],[1]])"
   ]
  },
  {
   "cell_type": "code",
   "execution_count": 7,
   "metadata": {},
   "outputs": [],
   "source": [
    "## Training the ANN using the above defined AND gate\n",
    "finalweights=train(traindata,labels)"
   ]
  },
  {
   "cell_type": "code",
   "execution_count": 8,
   "metadata": {},
   "outputs": [
    {
     "name": "stdout",
     "output_type": "stream",
     "text": [
      "The AND gate with learned weights\n",
      "\n",
      "Input ---> ([0 0]) --->|AND|---> (0)\n",
      "Input ---> ([0 1]) --->|AND|---> (0)\n",
      "Input ---> ([1 0]) --->|AND|---> (0)\n",
      "Input ---> ([1 1]) --->|AND|---> (1)\n",
      "\n",
      "The learned weights are ---> W1= 0.670 and W2=0.670\n"
     ]
    }
   ],
   "source": [
    "##Predicting the results using the learned parameters \n",
    "\n",
    "testdata=np.array([[0,0],[0,1],[1,0],[1,1]])\n",
    "outprediction=[]\n",
    "print('The AND gate with learned weights\\n')\n",
    "for i in range(len(testdata)):\n",
    "    outprediction.append(predict([testdata[i]],finalweights))\n",
    "    print('Input ---> ('+str(testdata[i])+') --->|AND|---> ('+str(outprediction[i])+')')\n",
    "\n",
    "print('\\nThe learned weights are ---> W1= '+str(finalweights[1])[0:-13]+' and W2='+str(finalweights[0])[0:-13])\n",
    "## printing the parameters as a line and the decision boundary            "
   ]
  },
  {
   "cell_type": "code",
   "execution_count": null,
   "metadata": {},
   "outputs": [],
   "source": []
  }
 ],
 "metadata": {
  "kernelspec": {
   "display_name": "Python 3",
   "language": "python",
   "name": "python3"
  },
  "language_info": {
   "codemirror_mode": {
    "name": "ipython",
    "version": 3
   },
   "file_extension": ".py",
   "mimetype": "text/x-python",
   "name": "python",
   "nbconvert_exporter": "python",
   "pygments_lexer": "ipython3",
   "version": "3.8.3"
  }
 },
 "nbformat": 4,
 "nbformat_minor": 4
}
