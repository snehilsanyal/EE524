{
  "nbformat": 4,
  "nbformat_minor": 0,
  "metadata": {
    "colab": {
      "name": "assgn7_1.ipynb",
      "provenance": [],
      "collapsed_sections": []
    },
    "kernelspec": {
      "name": "python3",
      "display_name": "Python 3"
    }
  },
  "cells": [
    {
      "cell_type": "code",
      "metadata": {
        "colab": {
          "base_uri": "https://localhost:8080/"
        },
        "id": "XioVI3nWOSot",
        "outputId": "0f73bff4-d9c8-4404-febb-288935459852"
      },
      "source": [
        "import sympy as sym\n",
        "x=sym.Symbol('x')\n",
        "x=sym.diff(x**2+3*x+2)\n",
        "print(x)\n",
        "\n",
        "\n"
      ],
      "execution_count": 3,
      "outputs": [
        {
          "output_type": "stream",
          "text": [
            "2*x + 3\n"
          ],
          "name": "stdout"
        }
      ]
    },
    {
      "cell_type": "code",
      "metadata": {
        "colab": {
          "base_uri": "https://localhost:8080/"
        },
        "id": "eIIVRQtpPk-C",
        "outputId": "0c71ab4a-8f56-4bf1-ecde-9ac562150d5c"
      },
      "source": [
        "x1=0\n",
        "learning_rate=.01\n",
        "step_size=1\n",
        "df=lambda x:2*x+3\n",
        "precision=0.00000001\n",
        "iter=0\n",
        "while step_size > precision:\n",
        "    initial_x1=x1\n",
        "\n",
        "    x1=x1-learning_rate*df(x1)\n",
        "\n",
        "    step_size=abs(initial_x1-x1)\n",
        "    \n",
        "print(x1)"
      ],
      "execution_count": 4,
      "outputs": [
        {
          "output_type": "stream",
          "text": [
            "-1.4999995176222451\n"
          ],
          "name": "stdout"
        }
      ]
    }
  ]
}