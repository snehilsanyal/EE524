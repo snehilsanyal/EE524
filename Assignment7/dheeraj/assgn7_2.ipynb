{
  "nbformat": 4,
  "nbformat_minor": 0,
  "metadata": {
    "colab": {
      "name": "assgn7_2.ipynb",
      "provenance": []
    },
    "kernelspec": {
      "name": "python3",
      "display_name": "Python 3"
    }
  },
  "cells": [
    {
      "cell_type": "code",
      "metadata": {
        "colab": {
          "base_uri": "https://localhost:8080/"
        },
        "id": "E_yI-WYKQHAv",
        "outputId": "607ea091-1f9f-41df-a1ac-28421517b5fd"
      },
      "source": [
        "learning_rate=.01\n",
        "init_x1=2\n",
        "init_x2=2\n",
        "step_size1=1\n",
        "step_size2=1\n",
        "df1=lambda x1:2*x1\n",
        "df2=lambda x2:2*x2\n",
        "precision=0.00000001\n",
        "iter=0\n",
        "while step_size1 > precision and step_size2 > precision:\n",
        "    init_x11=init_x1\n",
        "    init_x22 =init_x2\n",
        "    init_x1=init_x1-learning_rate*df1(init_x1)\n",
        "    step_size1=abs(init_x11-init_x1)\n",
        "    init_x2 = init_x2 - learning_rate * df2(init_x2)\n",
        "    step_size2 = abs(init_x22 - init_x2)\n",
        "    \n",
        "\n",
        "print(init_x1,init_x2)\n"
      ],
      "execution_count": 1,
      "outputs": [
        {
          "output_type": "stream",
          "text": [
            "4.84720143215372e-07 4.84720143215372e-07\n"
          ],
          "name": "stdout"
        }
      ]
    }
  ]
}