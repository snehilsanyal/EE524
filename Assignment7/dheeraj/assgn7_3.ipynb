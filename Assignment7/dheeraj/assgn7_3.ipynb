{
  "nbformat": 4,
  "nbformat_minor": 0,
  "metadata": {
    "colab": {
      "name": "assgn7_3.ipynb",
      "provenance": []
    },
    "kernelspec": {
      "name": "python3",
      "display_name": "Python 3"
    }
  },
  "cells": [
    {
      "cell_type": "code",
      "metadata": {
        "id": "2VgYef11QxUT"
      },
      "source": [
        "import numpy as np\n",
        "\n",
        "def unit_step_fun(x):\n",
        "    return np.where(x>=0,1,0)\n",
        "    "
      ],
      "execution_count": 1,
      "outputs": []
    },
    {
      "cell_type": "code",
      "metadata": {
        "id": "yXrnnn26RJBg"
      },
      "source": [
        "def train_data(x,y,lr,n_iter):\n",
        "    waights=1\n",
        "    bias=0\n",
        "    for _ in range(n_iter):\n",
        "        for indx, x_i in enumerate(x):\n",
        "            output = np.dot(x_i, waights) + bias\n",
        "            y_predict = unit_step_fun(output)\n",
        "            uptades = lr * (y[indx] - y_predict)\n",
        "            waights += uptades * x_i\n",
        "            bias += uptades\n",
        "\n",
        "    return waights,bias"
      ],
      "execution_count": 2,
      "outputs": []
    },
    {
      "cell_type": "code",
      "metadata": {
        "id": "yt1z8G2nRS5D"
      },
      "source": [
        "def perceptron(x,w,b):\n",
        "    y=np.dot(x,w)+b\n",
        "    return unit_step_fun(y)"
      ],
      "execution_count": 3,
      "outputs": []
    },
    {
      "cell_type": "code",
      "metadata": {
        "colab": {
          "base_uri": "https://localhost:8080/"
        },
        "id": "dE1mYH7QRWaT",
        "outputId": "7ff36f3e-85f8-44f8-9786-7ad3bdea0461"
      },
      "source": [
        "x=[[0,0],[0,1],[1,0],[1,1]]\n",
        "y=[0,0,0,1]\n",
        "trained_waights,trained_bias=train_data(x,y,.01,10000)\n",
        "print(trained_waights)\n",
        "print(trained_bias)"
      ],
      "execution_count": 4,
      "outputs": [
        {
          "output_type": "stream",
          "text": [
            "[0.67 0.67]\n",
            "[-0.67 -0.67]\n"
          ],
          "name": "stdout"
        }
      ]
    },
    {
      "cell_type": "code",
      "metadata": {
        "id": "WWL2u-rARdTx"
      },
      "source": [
        "\n",
        "def and_logic_fun(x):\n",
        "    w=trained_waights\n",
        "    b=trained_bias[0]\n",
        "    return perceptron(x,w,b)"
      ],
      "execution_count": 5,
      "outputs": []
    },
    {
      "cell_type": "code",
      "metadata": {
        "colab": {
          "base_uri": "https://localhost:8080/"
        },
        "id": "LdJfzaiVRkFq",
        "outputId": "12aefcb7-bce0-43ac-a3f9-214ebf9d25dc"
      },
      "source": [
        "\n",
        "t1=np.array([0,0])\n",
        "t2=np.array([0,1])\n",
        "t3=np.array([1,0])\n",
        "t4=np.array([1,1])\n",
        "print(and_logic_fun(t1))\n",
        "print(and_logic_fun(t2))\n",
        "print(and_logic_fun(t3))\n",
        "print(and_logic_fun(t4))"
      ],
      "execution_count": 6,
      "outputs": [
        {
          "output_type": "stream",
          "text": [
            "0\n",
            "0\n",
            "0\n",
            "1\n"
          ],
          "name": "stdout"
        }
      ]
    }
  ]
}