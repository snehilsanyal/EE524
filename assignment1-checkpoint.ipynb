{
 "cells": [
  {
   "cell_type": "code",
   "execution_count": 1,
   "metadata": {},
   "outputs": [
    {
     "name": "stdout",
     "output_type": "stream",
     "text": [
      "hello world\n"
     ]
    }
   ],
   "source": [
    "print(\"hello world\")"
   ]
  },
  {
   "cell_type": "code",
   "execution_count": 6,
   "metadata": {},
   "outputs": [
    {
     "name": "stdout",
     "output_type": "stream",
     "text": [
      "enter a number here:6\n",
      "enter a number here:4\n",
      "my sum is: 10\n",
      " my sub is: 2 \n",
      " my multi is: 24 \n",
      " my divide is: 1.5 \n",
      " my remainder is :2\n"
     ]
    }
   ],
   "source": [
    "a=int(input('enter a number here:'))\n",
    "b=int(input('enter a number here:'))\n",
    "c=a+b\n",
    "d=a-b\n",
    "e=a*b\n",
    "f=a/b\n",
    "g=a%b\n",
    "print('my sum is: {sum}\\n my sub is: {sub} \\n my multi is: {multi} \\n my divide is: {divide} \\n my remainder is :{rem}'.format(sum=c,sub=d,multi=e,divide=f,rem=g))"
   ]
  },
  {
   "cell_type": "code",
   "execution_count": 12,
   "metadata": {},
   "outputs": [
    {
     "name": "stdout",
     "output_type": "stream",
     "text": [
      "enter a number here:6\n",
      "the factorial of 6 is 720\n"
     ]
    }
   ],
   "source": [
    "num=int(input('enter a number here:'))\n",
    "factorial=1\n",
    "if num<0:\n",
    "    print(\"factorial is not exist\")\n",
    "elif num==0:\n",
    "    print(\"the factorial is 1\")\n",
    "else:    \n",
    "    for i in range(1,num+1):\n",
    "        factorial=factorial*i\n",
    "    print(\"the factorial of\", num,\"is\",factorial)"
   ]
  },
  {
   "cell_type": "code",
   "execution_count": 20,
   "metadata": {},
   "outputs": [
    {
     "name": "stdout",
     "output_type": "stream",
     "text": [
      "enter a number here:1\n",
      "enter a number here:100\n",
      "2\n",
      "3\n",
      "5\n",
      "7\n",
      "11\n",
      "13\n",
      "17\n",
      "19\n",
      "23\n",
      "29\n",
      "31\n",
      "37\n",
      "41\n",
      "43\n",
      "47\n",
      "53\n",
      "59\n",
      "61\n",
      "67\n",
      "71\n",
      "73\n",
      "79\n",
      "83\n",
      "89\n",
      "97\n"
     ]
    }
   ],
   "source": [
    "num1=int(input('enter a number here:'))\n",
    "num2=int(input('enter a number here:'))\n",
    "for num in range(num1,num2+1):\n",
    "    if num>1:\n",
    "        for i in range(2,num):\n",
    "            if (num%i)==0:\n",
    "                break\n",
    "        else: \n",
    "                print(num)"
   ]
  },
  {
   "cell_type": "code",
   "execution_count": 50,
   "metadata": {},
   "outputs": [
    {
     "name": "stdout",
     "output_type": "stream",
     "text": [
      "120\n"
     ]
    }
   ],
   "source": [
    "def calculate_lcm(x,y):\n",
    "    if x>y:\n",
    "        larger=x\n",
    "    else :\n",
    "        larger=y\n",
    "    while(True):\n",
    "        if((larger%x==0) and (larger%y==0)):\n",
    "            lcm=larger\n",
    "            break\n",
    "        larger+=1\n",
    "    return lcm\n",
    "num1=20\n",
    "num2=24\n",
    "result=calculate_lcm(num1,num2)\n",
    "print(result)"
   ]
  },
  {
   "cell_type": "code",
   "execution_count": 69,
   "metadata": {},
   "outputs": [
    {
     "name": "stdout",
     "output_type": "stream",
     "text": [
      "desending order is:\n",
      "[56, 34, 26, 22, 21, 16, 15, 14, 11, 9, 8, 5, 4, 2, 1]\n"
     ]
    }
   ],
   "source": [
    "\n",
    "def bubblesort(a):\n",
    "    n=len(a)\n",
    "    for i in range(n-1):\n",
    "        for j in range(0,n-i-1):\n",
    "            if a[j]<a[j+1]:\n",
    "                a[j],a[j+1]=a[j+1],a[j]\n",
    "a=list([4,5,8,2,1,9,22,11,56,34,15,16,14,26,21])\n",
    "bubblesort(a)\n",
    "print(\"desending order is:\")\n",
    "print(a)"
   ]
  },
  {
   "cell_type": "code",
   "execution_count": null,
   "metadata": {},
   "outputs": [],
   "source": []
  },
  {
   "cell_type": "code",
   "execution_count": 52,
   "metadata": {},
   "outputs": [
    {
     "name": "stdout",
     "output_type": "stream",
     "text": [
      "(7+11j) (-1-1j) (-18+38j) (0.8076923076923077+0.03846153846153843j)\n"
     ]
    }
   ],
   "source": [
    "class number:\n",
    "    def __init__(self,z1,z2):\n",
    "        self.z1=z1\n",
    "        self.z2=z2\n",
    "    def add(self):    \n",
    "        return self.z1+self.z2\n",
    "    def sub(self):    \n",
    "        return self.z1-self.z2\n",
    "    def multi(self):    \n",
    "        return self.z1*self.z2\n",
    "    def divide(self):    \n",
    "        return self.z1/self.z2\n",
    "z1=complex(3,5)\n",
    "z2=complex(4,6)\n",
    "result=number(z1,z2)\n",
    "a=result.add()\n",
    "b=result.sub()\n",
    "c=result.multi()\n",
    "d=result.divide()\n",
    "print(a,b,c,d)"
   ]
  },
  {
   "cell_type": "code",
   "execution_count": null,
   "metadata": {},
   "outputs": [],
   "source": []
  },
  {
   "cell_type": "code",
   "execution_count": 54,
   "metadata": {},
   "outputs": [
    {
     "name": "stdout",
     "output_type": "stream",
     "text": [
      "enter 1st number:3\n",
      "enter 2nd number:4\n"
     ]
    },
    {
     "data": {
      "text/plain": [
       "array([[ 2, -2,  0,  2],\n",
       "       [ 4,  1,  3,  3],\n",
       "       [ 1,  0,  0,  0]])"
      ]
     },
     "execution_count": 54,
     "metadata": {},
     "output_type": "execute_result"
    }
   ],
   "source": [
    "import numpy as np\n",
    "m=int(input('enter 1st number:'))\n",
    "n=int(input('enter 2nd number:'))\n",
    "arr=np.random.randint(-2,5,m*n)\n",
    "arr.reshape(m,n)"
   ]
  },
  {
   "cell_type": "code",
   "execution_count": null,
   "metadata": {},
   "outputs": [],
   "source": []
  },
  {
   "cell_type": "code",
   "execution_count": 55,
   "metadata": {},
   "outputs": [
    {
     "data": {
      "image/png": "[encoded data removed]",
      "text/plain": [
       "<Figure size 432x288 with 1 Axes>"
      ]
     },
     "metadata": {
      "needs_background": "light"
     },
     "output_type": "display_data"
    }
   ],
   "source": [
    "import matplotlib.pyplot as plt\n",
    "%matplotlib inline\n",
    "import numpy as np\n",
    "x=np.linspace(-10,10,10)\n",
    "y=3*x +2\n",
    "plt.plot(x,y)\n",
    "plt.xlabel('X LABEL')\n",
    "plt.ylabel('Y LABEL')\n",
    "plt.title('TITLE')\n",
    "plt.grid(color='y',linestyle='--')"
   ]
  },
  {
   "cell_type": "code",
   "execution_count": 67,
   "metadata": {},
   "outputs": [
    {
     "name": "stdout",
     "output_type": "stream",
     "text": [
      "[85 12 30 31 66 24 23 10 22 37 42 90  9 38  3]\n",
      "assending order is:\n",
      "[ 3  9 10 12 22 23 24 30 31 37 38 42 66 85 90]\n"
     ]
    }
   ],
   "source": [
    "import numpy as np\n",
    "def bubblesort(a):\n",
    "    print(a)\n",
    "    n=len(a)\n",
    "    for i in range(n-1):\n",
    "        for j in range(0,n-i-1):\n",
    "            if a[j]>a[j+1]:\n",
    "                a[j],a[j+1]=a[j+1],a[j]\n",
    "a=np.random.randint(1,100,15)\n",
    "bubblesort(a)\n",
    "print(\"assending order is:\")\n",
    "print(a)\n"
   ]
  },
  {
   "cell_type": "code",
   "execution_count": 59,
   "metadata": {},
   "outputs": [],
   "source": []
  },
  {
   "cell_type": "code",
   "execution_count": null,
   "metadata": {},
   "outputs": [],
   "source": []
  },
  {
   "cell_type": "code",
   "execution_count": null,
   "metadata": {},
   "outputs": [],
   "source": []
  }
 ],
 "metadata": {
  "kernelspec": {
   "display_name": "Python 3",
   "language": "python",
   "name": "python3"
  },
  "language_info": {
   "codemirror_mode": {
    "name": "ipython",
    "version": 3
   },
   "file_extension": ".py",
   "mimetype": "text/x-python",
   "name": "python",
   "nbconvert_exporter": "python",
   "pygments_lexer": "ipython3",
   "version": "3.8.3"
  }
 },
 "nbformat": 4,
 "nbformat_minor": 4
}
